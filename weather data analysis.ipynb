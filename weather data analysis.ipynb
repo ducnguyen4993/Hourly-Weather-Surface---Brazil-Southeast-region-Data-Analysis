{
 "cells": [
  {
   "cell_type": "code",
   "execution_count": 57,
   "metadata": {
    "ExecuteTime": {
     "end_time": "2020-06-08T22:20:02.129596Z",
     "start_time": "2020-06-08T22:20:02.107655Z"
    },
    "_cell_guid": "b1076dfc-b9ad-4769-8c92-a6c4dae69d19",
    "_uuid": "8f2839f25d086af736a60e9eeb907d3b93b6e0e5"
   },
   "outputs": [],
   "source": [
    "# This Python 3 environment comes with many helpful analytics libraries installed\n",
    "# It is defined by the kaggle/python Docker image: https://github.com/kaggle/docker-python\n",
    "# For example, here's several helpful packages to load\n",
    "\n",
    "import numpy as np # linear algebra\n",
    "import pandas as pd # data processing, CSV file I/O (e.g. pd.read_csv)\n",
    "\n",
    "# Input data files are available in the read-only \"../input/\" directory\n",
    "# For example, running this (by clicking run or pressing Shift+Enter) will list all files under the input directory\n",
    "\n",
    "import os\n",
    "for dirname, _, filenames in os.walk('/kaggle/input'):\n",
    "    for filename in filenames:\n",
    "        print(os.path.join(dirname, filename))\n",
    "\n",
    "# You can write up to 5GB to the current directory (/kaggle/working/) that gets preserved as output when you create a version using \"Save & Run All\" \n",
    "# You can also write temporary files to /kaggle/temp/, but they won't be saved outside of the current session"
   ]
  },
  {
   "cell_type": "code",
   "execution_count": 58,
   "metadata": {
    "ExecuteTime": {
     "end_time": "2020-06-08T22:20:22.128644Z",
     "start_time": "2020-06-08T22:20:22.089749Z"
    }
   },
   "outputs": [],
   "source": [
    "import matplotlib.pyplot as plt\n",
    "import seaborn as sns\n",
    "\n",
    "sns.set_style('darkgrid')\n",
    "plt.rcParams[\"patch.force_edgecolor\"] = True\n"
   ]
  },
  {
   "cell_type": "code",
   "execution_count": 59,
   "metadata": {
    "ExecuteTime": {
     "end_time": "2020-06-08T22:21:37.360400Z",
     "start_time": "2020-06-08T22:20:46.771400Z"
    },
    "_cell_guid": "79c7e3d0-c299-4dcb-8224-4455121ee9b0",
    "_uuid": "d629ff2d2480ee46fbb7e2d37f6b5fab8052498a"
   },
   "outputs": [],
   "source": [
    "df_original = pd.read_csv(\"sudeste.csv\")"
   ]
  },
  {
   "cell_type": "markdown",
   "metadata": {},
   "source": [
    "# Sample Data\n",
    "Due to large data lets work with sampel data****"
   ]
  },
  {
   "cell_type": "code",
   "execution_count": 60,
   "metadata": {
    "ExecuteTime": {
     "end_time": "2020-06-08T22:21:58.073262Z",
     "start_time": "2020-06-08T22:21:55.620858Z"
    }
   },
   "outputs": [],
   "source": [
    "sample_df = df_original.sample(100000,random_state=101)"
   ]
  },
  {
   "cell_type": "markdown",
   "metadata": {},
   "source": [
    "Dataset is too big so lets import in a chunk and work with the smallest one at first"
   ]
  },
  {
   "cell_type": "markdown",
   "metadata": {},
   "source": [
    "## Info On Some Columns\n",
    "\n",
    "\n",
    "1. Instant Air Temperature (celsius degrees) = temp\n",
    "2. Maximum Air Temperature (celsius degrees) = tmin\n",
    "3. Minimum Air Temperature (celsius degrees) = tmax\n",
    "4. Relative Humidity of Air (%) =hmdy\n",
    "5. Maximum Relative Air Humidity (%) =hmax\n",
    "6. Minimum Relative Air Humidity (%) = hmin\n",
    "7. Instant Dew Point (celsius degrees) = dewp\n",
    "8. Maximum Dew Point (celsius degrees)=dmax\n",
    "9. Minimum Dew Point Temperature (celsius degrees) = dmin\n",
    "10. Instant Air Atmospheric Pressure (millibars) =stp\n",
    "11. Maximum Air Atmospheric Pressure (millibars) = smax\n",
    "12. Minimum Air Atmospheric Pressure (millibars)= smin\n",
    "13. Instant Wind Speed (metres per second) = wdsp\n",
    "14. Wind Direction (radius degrees) = wdct\n",
    "15. Wind Gust Intensity (metres per second) = gust\n",
    "16. Solar radiation  =  gbrd\n",
    "17. Precipitation (milimetres) = prcp\n",
    "18. Elevation = elvt\n",
    "19. Observation Datetime = mdct\n",
    "20. Observation Date = date\n",
    "21. Station number (INMET number) for the location = inme\n",
    "22. The year (2000-2016) : yr\n",
    "23. The month (0-12) : mo\n",
    "24. The day (0-31): da\n",
    "25. The hour : hr\n",
    "\n",
    "*Not all the columns are mentioned in this list*"
   ]
  },
  {
   "cell_type": "code",
   "execution_count": 61,
   "metadata": {
    "ExecuteTime": {
     "end_time": "2020-06-08T22:22:37.472041Z",
     "start_time": "2020-06-08T22:22:37.385867Z"
    }
   },
   "outputs": [
    {
     "data": {
      "text/html": [
       "<div>\n",
       "<style scoped>\n",
       "    .dataframe tbody tr th:only-of-type {\n",
       "        vertical-align: middle;\n",
       "    }\n",
       "\n",
       "    .dataframe tbody tr th {\n",
       "        vertical-align: top;\n",
       "    }\n",
       "\n",
       "    .dataframe thead th {\n",
       "        text-align: right;\n",
       "    }\n",
       "</style>\n",
       "<table border=\"1\" class=\"dataframe\">\n",
       "  <thead>\n",
       "    <tr style=\"text-align: right;\">\n",
       "      <th></th>\n",
       "      <th>wsid</th>\n",
       "      <th>wsnm</th>\n",
       "      <th>elvt</th>\n",
       "      <th>lat</th>\n",
       "      <th>lon</th>\n",
       "      <th>inme</th>\n",
       "      <th>city</th>\n",
       "      <th>prov</th>\n",
       "      <th>mdct</th>\n",
       "      <th>date</th>\n",
       "      <th>...</th>\n",
       "      <th>tmax</th>\n",
       "      <th>dmax</th>\n",
       "      <th>tmin</th>\n",
       "      <th>dmin</th>\n",
       "      <th>hmdy</th>\n",
       "      <th>hmax</th>\n",
       "      <th>hmin</th>\n",
       "      <th>wdsp</th>\n",
       "      <th>wdct</th>\n",
       "      <th>gust</th>\n",
       "    </tr>\n",
       "  </thead>\n",
       "  <tbody>\n",
       "    <tr>\n",
       "      <th>444352</th>\n",
       "      <td>307</td>\n",
       "      <td>SÃO MATEUS</td>\n",
       "      <td>29.0</td>\n",
       "      <td>-18.676198</td>\n",
       "      <td>-39.864051</td>\n",
       "      <td>A616</td>\n",
       "      <td>São Mateus</td>\n",
       "      <td>ES</td>\n",
       "      <td>2009-09-10 16:00:00</td>\n",
       "      <td>2009-09-10</td>\n",
       "      <td>...</td>\n",
       "      <td>28.4</td>\n",
       "      <td>19.6</td>\n",
       "      <td>26.9</td>\n",
       "      <td>18.0</td>\n",
       "      <td>58.0</td>\n",
       "      <td>63.0</td>\n",
       "      <td>55.0</td>\n",
       "      <td>4.6</td>\n",
       "      <td>92.0</td>\n",
       "      <td>7.7</td>\n",
       "    </tr>\n",
       "    <tr>\n",
       "      <th>9560222</th>\n",
       "      <td>420</td>\n",
       "      <td>PRADÓPOLIS</td>\n",
       "      <td>540.0</td>\n",
       "      <td>-21.338432</td>\n",
       "      <td>-48.114007</td>\n",
       "      <td>A747</td>\n",
       "      <td>Pradópolis</td>\n",
       "      <td>SP</td>\n",
       "      <td>2011-10-12 06:00:00</td>\n",
       "      <td>2011-10-12</td>\n",
       "      <td>...</td>\n",
       "      <td>20.9</td>\n",
       "      <td>19.2</td>\n",
       "      <td>20.4</td>\n",
       "      <td>18.4</td>\n",
       "      <td>88.0</td>\n",
       "      <td>90.0</td>\n",
       "      <td>87.0</td>\n",
       "      <td>4.1</td>\n",
       "      <td>135.0</td>\n",
       "      <td>7.1</td>\n",
       "    </tr>\n",
       "    <tr>\n",
       "      <th>8694523</th>\n",
       "      <td>409</td>\n",
       "      <td>JALES</td>\n",
       "      <td>460.0</td>\n",
       "      <td>-20.165025</td>\n",
       "      <td>-50.595134</td>\n",
       "      <td>A733</td>\n",
       "      <td>Jales</td>\n",
       "      <td>SP</td>\n",
       "      <td>2009-05-13 11:00:00</td>\n",
       "      <td>2009-05-13</td>\n",
       "      <td>...</td>\n",
       "      <td>21.7</td>\n",
       "      <td>15.8</td>\n",
       "      <td>20.0</td>\n",
       "      <td>14.6</td>\n",
       "      <td>69.0</td>\n",
       "      <td>71.0</td>\n",
       "      <td>69.0</td>\n",
       "      <td>1.2</td>\n",
       "      <td>84.0</td>\n",
       "      <td>3.9</td>\n",
       "    </tr>\n",
       "    <tr>\n",
       "      <th>9231502</th>\n",
       "      <td>415</td>\n",
       "      <td>ITAPIRA</td>\n",
       "      <td>635.0</td>\n",
       "      <td>-22.415062</td>\n",
       "      <td>-46.805292</td>\n",
       "      <td>A739</td>\n",
       "      <td>Itapira</td>\n",
       "      <td>SP</td>\n",
       "      <td>2016-07-05 14:00:00</td>\n",
       "      <td>2016-07-05</td>\n",
       "      <td>...</td>\n",
       "      <td>24.0</td>\n",
       "      <td>13.7</td>\n",
       "      <td>22.6</td>\n",
       "      <td>12.5</td>\n",
       "      <td>51.0</td>\n",
       "      <td>55.0</td>\n",
       "      <td>50.0</td>\n",
       "      <td>1.9</td>\n",
       "      <td>82.0</td>\n",
       "      <td>5.2</td>\n",
       "    </tr>\n",
       "    <tr>\n",
       "      <th>7955234</th>\n",
       "      <td>400</td>\n",
       "      <td>ITAPEVA</td>\n",
       "      <td>743.0</td>\n",
       "      <td>-23.981918</td>\n",
       "      <td>-48.885818</td>\n",
       "      <td>A714</td>\n",
       "      <td>Itapeva</td>\n",
       "      <td>SP</td>\n",
       "      <td>2014-02-15 18:00:00</td>\n",
       "      <td>2014-02-15</td>\n",
       "      <td>...</td>\n",
       "      <td>20.9</td>\n",
       "      <td>18.1</td>\n",
       "      <td>19.7</td>\n",
       "      <td>17.4</td>\n",
       "      <td>88.0</td>\n",
       "      <td>89.0</td>\n",
       "      <td>81.0</td>\n",
       "      <td>7.2</td>\n",
       "      <td>159.0</td>\n",
       "      <td>12.5</td>\n",
       "    </tr>\n",
       "  </tbody>\n",
       "</table>\n",
       "<p>5 rows × 31 columns</p>\n",
       "</div>"
      ],
      "text/plain": [
       "         wsid        wsnm   elvt        lat        lon  inme        city prov  \\\n",
       "444352    307  SÃO MATEUS   29.0 -18.676198 -39.864051  A616  São Mateus   ES   \n",
       "9560222   420  PRADÓPOLIS  540.0 -21.338432 -48.114007  A747  Pradópolis   SP   \n",
       "8694523   409       JALES  460.0 -20.165025 -50.595134  A733       Jales   SP   \n",
       "9231502   415     ITAPIRA  635.0 -22.415062 -46.805292  A739     Itapira   SP   \n",
       "7955234   400     ITAPEVA  743.0 -23.981918 -48.885818  A714     Itapeva   SP   \n",
       "\n",
       "                        mdct        date  ...  tmax  dmax  tmin  dmin  hmdy  \\\n",
       "444352   2009-09-10 16:00:00  2009-09-10  ...  28.4  19.6  26.9  18.0  58.0   \n",
       "9560222  2011-10-12 06:00:00  2011-10-12  ...  20.9  19.2  20.4  18.4  88.0   \n",
       "8694523  2009-05-13 11:00:00  2009-05-13  ...  21.7  15.8  20.0  14.6  69.0   \n",
       "9231502  2016-07-05 14:00:00  2016-07-05  ...  24.0  13.7  22.6  12.5  51.0   \n",
       "7955234  2014-02-15 18:00:00  2014-02-15  ...  20.9  18.1  19.7  17.4  88.0   \n",
       "\n",
       "         hmax  hmin  wdsp   wdct  gust  \n",
       "444352   63.0  55.0   4.6   92.0   7.7  \n",
       "9560222  90.0  87.0   4.1  135.0   7.1  \n",
       "8694523  71.0  69.0   1.2   84.0   3.9  \n",
       "9231502  55.0  50.0   1.9   82.0   5.2  \n",
       "7955234  89.0  81.0   7.2  159.0  12.5  \n",
       "\n",
       "[5 rows x 31 columns]"
      ]
     },
     "execution_count": 61,
     "metadata": {},
     "output_type": "execute_result"
    }
   ],
   "source": [
    "sample_df.head()"
   ]
  },
  {
   "cell_type": "code",
   "execution_count": 62,
   "metadata": {
    "ExecuteTime": {
     "end_time": "2020-06-08T22:22:47.471133Z",
     "start_time": "2020-06-08T22:22:47.361155Z"
    }
   },
   "outputs": [
    {
     "name": "stdout",
     "output_type": "stream",
     "text": [
      "<class 'pandas.core.frame.DataFrame'>\n",
      "Int64Index: 100000 entries, 444352 to 5222905\n",
      "Data columns (total 31 columns):\n",
      " #   Column  Non-Null Count   Dtype  \n",
      "---  ------  --------------   -----  \n",
      " 0   wsid    100000 non-null  int64  \n",
      " 1   wsnm    100000 non-null  object \n",
      " 2   elvt    100000 non-null  float64\n",
      " 3   lat     100000 non-null  float64\n",
      " 4   lon     100000 non-null  float64\n",
      " 5   inme    100000 non-null  object \n",
      " 6   city    100000 non-null  object \n",
      " 7   prov    100000 non-null  object \n",
      " 8   mdct    100000 non-null  object \n",
      " 9   date    100000 non-null  object \n",
      " 10  yr      100000 non-null  int64  \n",
      " 11  mo      100000 non-null  int64  \n",
      " 12  da      100000 non-null  int64  \n",
      " 13  hr      100000 non-null  int64  \n",
      " 14  prcp    14488 non-null   float64\n",
      " 15  stp     100000 non-null  float64\n",
      " 16  smax    100000 non-null  float64\n",
      " 17  smin    100000 non-null  float64\n",
      " 18  gbrd    58007 non-null   float64\n",
      " 19  temp    100000 non-null  float64\n",
      " 20  dewp    99998 non-null   float64\n",
      " 21  tmax    99999 non-null   float64\n",
      " 22  dmax    99996 non-null   float64\n",
      " 23  tmin    100000 non-null  float64\n",
      " 24  dmin    99991 non-null   float64\n",
      " 25  hmdy    100000 non-null  float64\n",
      " 26  hmax    100000 non-null  float64\n",
      " 27  hmin    100000 non-null  float64\n",
      " 28  wdsp    90602 non-null   float64\n",
      " 29  wdct    100000 non-null  float64\n",
      " 30  gust    96738 non-null   float64\n",
      "dtypes: float64(20), int64(5), object(6)\n",
      "memory usage: 24.4+ MB\n"
     ]
    }
   ],
   "source": [
    "sample_df.info()"
   ]
  },
  {
   "cell_type": "markdown",
   "metadata": {},
   "source": [
    "# Tidying Data"
   ]
  },
  {
   "cell_type": "markdown",
   "metadata": {},
   "source": [
    "## Drop Elvt,Lat and Long"
   ]
  },
  {
   "cell_type": "markdown",
   "metadata": {},
   "source": [
    " Lat and long can correlate to city and province, so, remove elevation, longitude and lattitude "
   ]
  },
  {
   "cell_type": "code",
   "execution_count": 63,
   "metadata": {
    "ExecuteTime": {
     "end_time": "2020-06-08T22:22:56.102704Z",
     "start_time": "2020-06-08T22:22:56.039871Z"
    }
   },
   "outputs": [],
   "source": [
    "sample_df.drop(['lat','lon', 'elvt'], axis=1,inplace=True)"
   ]
  },
  {
   "cell_type": "code",
   "execution_count": 64,
   "metadata": {
    "ExecuteTime": {
     "end_time": "2020-06-08T22:23:15.078986Z",
     "start_time": "2020-06-08T22:23:15.011168Z"
    }
   },
   "outputs": [
    {
     "name": "stdout",
     "output_type": "stream",
     "text": [
      "        wsid        wsnm  inme        city prov                 mdct  \\\n",
      "444352   307  SÃO MATEUS  A616  São Mateus   ES  2009-09-10 16:00:00   \n",
      "\n",
      "              date    yr  mo  da  \n",
      "444352  2009-09-10  2009   9  10  \n",
      "========================================\n",
      "        hr  prcp     stp    smax    smin      gbrd  temp  dewp  tmax  dmax\n",
      "444352  16   NaN  1017.7  1018.4  1017.7  2526.037  27.5  18.6  28.4  19.6\n",
      "========================================\n",
      "        tmin  dmin  hmdy  hmax  hmin  wdsp  wdct  gust\n",
      "444352  26.9  18.0  58.0  63.0  55.0   4.6  92.0   7.7\n"
     ]
    }
   ],
   "source": [
    "print(sample_df.iloc[:,:10].head(1))\n",
    "print(\"==\"*20)\n",
    "print(sample_df.iloc[:,10:20].head(1))\n",
    "print(\"==\"*20)\n",
    "\n",
    "print(sample_df.iloc[:,20:].head(1))"
   ]
  },
  {
   "cell_type": "code",
   "execution_count": 65,
   "metadata": {
    "ExecuteTime": {
     "end_time": "2020-06-08T22:23:26.864557Z",
     "start_time": "2020-06-08T22:23:26.808674Z"
    }
   },
   "outputs": [],
   "source": [
    "sample_df.drop('wsnm', axis=1,inplace=True)"
   ]
  },
  {
   "cell_type": "markdown",
   "metadata": {},
   "source": [
    "## Drop Multiple Time related columns"
   ]
  },
  {
   "cell_type": "markdown",
   "metadata": {},
   "source": [
    "There are five columns on time of observatoin. They are mdct, date,yr, month and hour, which are same but separated into several sctions. Among them Date and Hour columns are useful and represent all in some form, so others can be dropped. The conversion of date column to datetime gave format error. So, first lets combine the yr,mo,da and hr columns to make one and then drop them"
   ]
  },
  {
   "cell_type": "code",
   "execution_count": 66,
   "metadata": {
    "ExecuteTime": {
     "end_time": "2020-06-08T22:23:38.642515Z",
     "start_time": "2020-06-08T22:23:38.232476Z"
    }
   },
   "outputs": [],
   "source": [
    "sample_df['date']=pd.to_datetime(sample_df[['yr', 'mo', 'da','hr']].rename(columns={'yr': 'year','mo': 'month','da': 'day','hr':'hour'}))"
   ]
  },
  {
   "cell_type": "code",
   "execution_count": 67,
   "metadata": {
    "ExecuteTime": {
     "end_time": "2020-06-08T22:23:46.544403Z",
     "start_time": "2020-06-08T22:23:46.504509Z"
    }
   },
   "outputs": [],
   "source": [
    "sample_df.drop(['mdct','yr','da','mo'], axis= 1, inplace=True)"
   ]
  },
  {
   "cell_type": "markdown",
   "metadata": {},
   "source": [
    "Reset Index as Date column and the check for duplicates data on same date in same city and remove them"
   ]
  },
  {
   "cell_type": "code",
   "execution_count": 68,
   "metadata": {
    "ExecuteTime": {
     "end_time": "2020-06-08T22:23:54.048943Z",
     "start_time": "2020-06-08T22:23:54.032986Z"
    }
   },
   "outputs": [],
   "source": [
    "sample_df.set_index('date',inplace=True,drop=True)"
   ]
  },
  {
   "cell_type": "markdown",
   "metadata": {},
   "source": [
    "Since there is no null values,under the assumption that all the data from various weather stations are valid and true, lets not filter the time of operation of weather stations and drop the wsids and inme, only city adn prov are enough."
   ]
  },
  {
   "cell_type": "code",
   "execution_count": 69,
   "metadata": {
    "ExecuteTime": {
     "end_time": "2020-06-08T22:25:00.360690Z",
     "start_time": "2020-06-08T22:25:00.333764Z"
    }
   },
   "outputs": [],
   "source": [
    "sample_df.drop(['wsid','inme'],inplace=True, axis=1)"
   ]
  },
  {
   "cell_type": "code",
   "execution_count": 72,
   "metadata": {
    "ExecuteTime": {
     "end_time": "2020-06-08T22:25:40.561078Z",
     "start_time": "2020-06-08T22:25:40.529164Z"
    }
   },
   "outputs": [
    {
     "data": {
      "text/html": [
       "<div>\n",
       "<style scoped>\n",
       "    .dataframe tbody tr th:only-of-type {\n",
       "        vertical-align: middle;\n",
       "    }\n",
       "\n",
       "    .dataframe tbody tr th {\n",
       "        vertical-align: top;\n",
       "    }\n",
       "\n",
       "    .dataframe thead th {\n",
       "        text-align: right;\n",
       "    }\n",
       "</style>\n",
       "<table border=\"1\" class=\"dataframe\">\n",
       "  <thead>\n",
       "    <tr style=\"text-align: right;\">\n",
       "      <th></th>\n",
       "      <th>city</th>\n",
       "      <th>prov</th>\n",
       "      <th>hr</th>\n",
       "      <th>prcp</th>\n",
       "      <th>stp</th>\n",
       "      <th>smax</th>\n",
       "      <th>smin</th>\n",
       "      <th>gbrd</th>\n",
       "      <th>temp</th>\n",
       "      <th>dewp</th>\n",
       "      <th>tmax</th>\n",
       "      <th>dmax</th>\n",
       "      <th>tmin</th>\n",
       "      <th>dmin</th>\n",
       "      <th>hmdy</th>\n",
       "      <th>hmax</th>\n",
       "      <th>hmin</th>\n",
       "      <th>wdsp</th>\n",
       "      <th>wdct</th>\n",
       "      <th>gust</th>\n",
       "    </tr>\n",
       "    <tr>\n",
       "      <th>date</th>\n",
       "      <th></th>\n",
       "      <th></th>\n",
       "      <th></th>\n",
       "      <th></th>\n",
       "      <th></th>\n",
       "      <th></th>\n",
       "      <th></th>\n",
       "      <th></th>\n",
       "      <th></th>\n",
       "      <th></th>\n",
       "      <th></th>\n",
       "      <th></th>\n",
       "      <th></th>\n",
       "      <th></th>\n",
       "      <th></th>\n",
       "      <th></th>\n",
       "      <th></th>\n",
       "      <th></th>\n",
       "      <th></th>\n",
       "      <th></th>\n",
       "    </tr>\n",
       "  </thead>\n",
       "  <tbody>\n",
       "    <tr>\n",
       "      <th>2009-09-10 16:00:00</th>\n",
       "      <td>São Mateus</td>\n",
       "      <td>ES</td>\n",
       "      <td>16</td>\n",
       "      <td>NaN</td>\n",
       "      <td>1017.7</td>\n",
       "      <td>1018.4</td>\n",
       "      <td>1017.7</td>\n",
       "      <td>2526.037</td>\n",
       "      <td>27.5</td>\n",
       "      <td>18.6</td>\n",
       "      <td>28.4</td>\n",
       "      <td>19.6</td>\n",
       "      <td>26.9</td>\n",
       "      <td>18.0</td>\n",
       "      <td>58.0</td>\n",
       "      <td>63.0</td>\n",
       "      <td>55.0</td>\n",
       "      <td>4.6</td>\n",
       "      <td>92.0</td>\n",
       "      <td>7.7</td>\n",
       "    </tr>\n",
       "    <tr>\n",
       "      <th>2011-10-12 06:00:00</th>\n",
       "      <td>Pradópolis</td>\n",
       "      <td>SP</td>\n",
       "      <td>6</td>\n",
       "      <td>NaN</td>\n",
       "      <td>949.3</td>\n",
       "      <td>949.7</td>\n",
       "      <td>949.2</td>\n",
       "      <td>NaN</td>\n",
       "      <td>20.4</td>\n",
       "      <td>18.4</td>\n",
       "      <td>20.9</td>\n",
       "      <td>19.2</td>\n",
       "      <td>20.4</td>\n",
       "      <td>18.4</td>\n",
       "      <td>88.0</td>\n",
       "      <td>90.0</td>\n",
       "      <td>87.0</td>\n",
       "      <td>4.1</td>\n",
       "      <td>135.0</td>\n",
       "      <td>7.1</td>\n",
       "    </tr>\n",
       "    <tr>\n",
       "      <th>2009-05-13 11:00:00</th>\n",
       "      <td>Jales</td>\n",
       "      <td>SP</td>\n",
       "      <td>11</td>\n",
       "      <td>NaN</td>\n",
       "      <td>961.9</td>\n",
       "      <td>961.9</td>\n",
       "      <td>961.2</td>\n",
       "      <td>387.021</td>\n",
       "      <td>21.7</td>\n",
       "      <td>15.8</td>\n",
       "      <td>21.7</td>\n",
       "      <td>15.8</td>\n",
       "      <td>20.0</td>\n",
       "      <td>14.6</td>\n",
       "      <td>69.0</td>\n",
       "      <td>71.0</td>\n",
       "      <td>69.0</td>\n",
       "      <td>1.2</td>\n",
       "      <td>84.0</td>\n",
       "      <td>3.9</td>\n",
       "    </tr>\n",
       "    <tr>\n",
       "      <th>2016-07-05 14:00:00</th>\n",
       "      <td>Itapira</td>\n",
       "      <td>SP</td>\n",
       "      <td>14</td>\n",
       "      <td>NaN</td>\n",
       "      <td>950.1</td>\n",
       "      <td>950.5</td>\n",
       "      <td>950.1</td>\n",
       "      <td>1188.123</td>\n",
       "      <td>23.7</td>\n",
       "      <td>12.9</td>\n",
       "      <td>24.0</td>\n",
       "      <td>13.7</td>\n",
       "      <td>22.6</td>\n",
       "      <td>12.5</td>\n",
       "      <td>51.0</td>\n",
       "      <td>55.0</td>\n",
       "      <td>50.0</td>\n",
       "      <td>1.9</td>\n",
       "      <td>82.0</td>\n",
       "      <td>5.2</td>\n",
       "    </tr>\n",
       "    <tr>\n",
       "      <th>2014-02-15 18:00:00</th>\n",
       "      <td>Itapeva</td>\n",
       "      <td>SP</td>\n",
       "      <td>18</td>\n",
       "      <td>1.0</td>\n",
       "      <td>931.6</td>\n",
       "      <td>932.4</td>\n",
       "      <td>931.6</td>\n",
       "      <td>1050.964</td>\n",
       "      <td>19.7</td>\n",
       "      <td>17.7</td>\n",
       "      <td>20.9</td>\n",
       "      <td>18.1</td>\n",
       "      <td>19.7</td>\n",
       "      <td>17.4</td>\n",
       "      <td>88.0</td>\n",
       "      <td>89.0</td>\n",
       "      <td>81.0</td>\n",
       "      <td>7.2</td>\n",
       "      <td>159.0</td>\n",
       "      <td>12.5</td>\n",
       "    </tr>\n",
       "  </tbody>\n",
       "</table>\n",
       "</div>"
      ],
      "text/plain": [
       "                           city prov  hr  prcp     stp    smax    smin  \\\n",
       "date                                                                     \n",
       "2009-09-10 16:00:00  São Mateus   ES  16   NaN  1017.7  1018.4  1017.7   \n",
       "2011-10-12 06:00:00  Pradópolis   SP   6   NaN   949.3   949.7   949.2   \n",
       "2009-05-13 11:00:00       Jales   SP  11   NaN   961.9   961.9   961.2   \n",
       "2016-07-05 14:00:00     Itapira   SP  14   NaN   950.1   950.5   950.1   \n",
       "2014-02-15 18:00:00     Itapeva   SP  18   1.0   931.6   932.4   931.6   \n",
       "\n",
       "                         gbrd  temp  dewp  tmax  dmax  tmin  dmin  hmdy  hmax  \\\n",
       "date                                                                            \n",
       "2009-09-10 16:00:00  2526.037  27.5  18.6  28.4  19.6  26.9  18.0  58.0  63.0   \n",
       "2011-10-12 06:00:00       NaN  20.4  18.4  20.9  19.2  20.4  18.4  88.0  90.0   \n",
       "2009-05-13 11:00:00   387.021  21.7  15.8  21.7  15.8  20.0  14.6  69.0  71.0   \n",
       "2016-07-05 14:00:00  1188.123  23.7  12.9  24.0  13.7  22.6  12.5  51.0  55.0   \n",
       "2014-02-15 18:00:00  1050.964  19.7  17.7  20.9  18.1  19.7  17.4  88.0  89.0   \n",
       "\n",
       "                     hmin  wdsp   wdct  gust  \n",
       "date                                          \n",
       "2009-09-10 16:00:00  55.0   4.6   92.0   7.7  \n",
       "2011-10-12 06:00:00  87.0   4.1  135.0   7.1  \n",
       "2009-05-13 11:00:00  69.0   1.2   84.0   3.9  \n",
       "2016-07-05 14:00:00  50.0   1.9   82.0   5.2  \n",
       "2014-02-15 18:00:00  81.0   7.2  159.0  12.5  "
      ]
     },
     "execution_count": 72,
     "metadata": {},
     "output_type": "execute_result"
    }
   ],
   "source": [
    "sample_df.head()"
   ]
  },
  {
   "cell_type": "markdown",
   "metadata": {},
   "source": [
    "# Exploration and Manipulation"
   ]
  },
  {
   "cell_type": "code",
   "execution_count": 70,
   "metadata": {
    "ExecuteTime": {
     "end_time": "2020-06-08T22:25:18.188892Z",
     "start_time": "2020-06-08T22:25:17.196159Z"
    }
   },
   "outputs": [
    {
     "data": {
      "text/plain": [
       "Text(0.5, 1.0, 'Weather Data by Province')"
      ]
     },
     "execution_count": 70,
     "metadata": {},
     "output_type": "execute_result"
    },
    {
     "data": {
      "image/png": "[encoded data removed]",
      "text/plain": [
       "<Figure size 576x720 with 1 Axes>"
      ]
     },
     "metadata": {},
     "output_type": "display_data"
    }
   ],
   "source": [
    "sample_df['prov'].value_counts(normalize=True).plot.pie(figsize=(8,10),autopct = '%.1f%%',labels=['Minas Gerais','São Paulo','Rio de Janeiro','Espírito Santo'])\n",
    "plt.xlabel(\" \")\n",
    "plt.ylabel(\" \")\n",
    "# plt.legend(['Minas Gerais','São Paulo','Rio de Janeiro','Espírito Santo'], loc=0)\n",
    "plt.title('Weather Data by Province')"
   ]
  },
  {
   "cell_type": "code",
   "execution_count": 71,
   "metadata": {
    "ExecuteTime": {
     "end_time": "2020-06-08T22:25:26.416000Z",
     "start_time": "2020-06-08T22:25:26.383088Z"
    }
   },
   "outputs": [
    {
     "data": {
      "text/plain": [
       "city        0\n",
       "prov        0\n",
       "hr          0\n",
       "prcp    85512\n",
       "stp         0\n",
       "smax        0\n",
       "smin        0\n",
       "gbrd    41993\n",
       "temp        0\n",
       "dewp        2\n",
       "tmax        1\n",
       "dmax        4\n",
       "tmin        0\n",
       "dmin        9\n",
       "hmdy        0\n",
       "hmax        0\n",
       "hmin        0\n",
       "wdsp     9398\n",
       "wdct        0\n",
       "gust     3262\n",
       "dtype: int64"
      ]
     },
     "execution_count": 71,
     "metadata": {},
     "output_type": "execute_result"
    }
   ],
   "source": [
    "sample_df.isnull().sum()"
   ]
  },
  {
   "cell_type": "markdown",
   "metadata": {},
   "source": [
    "## Missing Data Visualization Using Heatmap"
   ]
  },
  {
   "cell_type": "code",
   "execution_count": 73,
   "metadata": {
    "ExecuteTime": {
     "end_time": "2020-06-08T22:26:08.809235Z",
     "start_time": "2020-06-08T22:26:06.333397Z"
    }
   },
   "outputs": [
    {
     "data": {
      "text/plain": [
       "<matplotlib.axes._subplots.AxesSubplot at 0x19ed5075508>"
      ]
     },
     "execution_count": 73,
     "metadata": {},
     "output_type": "execute_result"
    },
    {
     "data": {
      "image/png": "[encoded data removed]",
      "text/plain": [
       "<Figure size 1152x432 with 1 Axes>"
      ]
     },
     "metadata": {},
     "output_type": "display_data"
    }
   ],
   "source": [
    "plt.figure(figsize=(16,6))\n",
    "sns.heatmap(sample_df.isnull(),cmap='magma', cbar=False, yticklabels=False)"
   ]
  },
  {
   "cell_type": "markdown",
   "metadata": {},
   "source": [
    "The figure shows that the prcp and gbrd have a lot of missing data. Lets check in actual percentage the amount of missing data. But heatmap cannot capture small percentage like tmin and tmax due to size difference."
   ]
  },
  {
   "cell_type": "markdown",
   "metadata": {},
   "source": [
    "## Missing data percentage calculation"
   ]
  },
  {
   "cell_type": "markdown",
   "metadata": {},
   "source": [
    "Reutrn the columns with null values greater than 40% of total length of df.\n",
    "\n",
    " $((sample_df[col].isna().sum()*100) / df.shape[0])$ gives the null percentage of the relevant column.\n",
    " \n",
    "  $sample_df[col].isna().sum() > round(0.4 * df.shape[0])$ checks if null percentage is more than 40% of toal length.Finally gives col and null percentage as key and value pair if the null amount is more thank 40 percentage"
   ]
  },
  {
   "cell_type": "code",
   "execution_count": 74,
   "metadata": {
    "ExecuteTime": {
     "end_time": "2020-06-08T22:26:20.387668Z",
     "start_time": "2020-06-08T22:26:20.333726Z"
    }
   },
   "outputs": [],
   "source": [
    "columns_40_percent_plus_null = {col:((sample_df[col].isna().sum()*100)/ sample_df.shape[0]) for col in sample_df.columns if sample_df[col].isna().sum() > \n",
    "                                round(0.4 * sample_df.shape[0]) }"
   ]
  },
  {
   "cell_type": "code",
   "execution_count": 75,
   "metadata": {
    "ExecuteTime": {
     "end_time": "2020-06-08T22:26:28.290050Z",
     "start_time": "2020-06-08T22:26:28.281065Z"
    }
   },
   "outputs": [
    {
     "data": {
      "text/plain": [
       "{'prcp': 85.512, 'gbrd': 41.993}"
      ]
     },
     "execution_count": 75,
     "metadata": {},
     "output_type": "execute_result"
    }
   ],
   "source": [
    "columns_40_percent_plus_null"
   ]
  },
  {
   "cell_type": "markdown",
   "metadata": {},
   "source": [
    "lets Drop both gbrd and prcp columns. And also nan rows from  temp,tmax,tmin columns since its really small."
   ]
  },
  {
   "cell_type": "code",
   "execution_count": 76,
   "metadata": {
    "ExecuteTime": {
     "end_time": "2020-06-08T22:26:35.880068Z",
     "start_time": "2020-06-08T22:26:35.843599Z"
    }
   },
   "outputs": [],
   "source": [
    "sample_df.drop(['prcp','gbrd'], inplace=True,axis=1)"
   ]
  },
  {
   "cell_type": "code",
   "execution_count": 77,
   "metadata": {
    "ExecuteTime": {
     "end_time": "2020-06-08T22:26:43.620836Z",
     "start_time": "2020-06-08T22:26:43.572457Z"
    }
   },
   "outputs": [],
   "source": [
    "sample_df.dropna(subset=['tmax','temp','tmin'],inplace=True)"
   ]
  },
  {
   "cell_type": "markdown",
   "metadata": {},
   "source": [
    "Just for the sake of argument fill the missing values in dewp, dmax with average values"
   ]
  },
  {
   "cell_type": "code",
   "execution_count": 78,
   "metadata": {
    "ExecuteTime": {
     "end_time": "2020-06-08T22:26:58.368265Z",
     "start_time": "2020-06-08T22:26:58.353312Z"
    }
   },
   "outputs": [],
   "source": [
    "sample_df['dmax'].fillna(sample_df['dmax'].mean(),inplace=True)\n",
    "sample_df['dewp'].fillna(sample_df['dewp'].mean(),inplace=True)\n",
    "sample_df['dmin'].fillna(sample_df['dmin'].mean(),inplace=True)"
   ]
  },
  {
   "cell_type": "code",
   "execution_count": 79,
   "metadata": {
    "ExecuteTime": {
     "end_time": "2020-06-08T22:27:08.680167Z",
     "start_time": "2020-06-08T22:27:08.644262Z"
    }
   },
   "outputs": [
    {
     "data": {
      "text/plain": [
       "city       0\n",
       "prov       0\n",
       "hr         0\n",
       "stp        0\n",
       "smax       0\n",
       "smin       0\n",
       "temp       0\n",
       "dewp       0\n",
       "tmax       0\n",
       "dmax       0\n",
       "tmin       0\n",
       "dmin       0\n",
       "hmdy       0\n",
       "hmax       0\n",
       "hmin       0\n",
       "wdsp    9398\n",
       "wdct       0\n",
       "gust    3262\n",
       "dtype: int64"
      ]
     },
     "execution_count": 79,
     "metadata": {},
     "output_type": "execute_result"
    }
   ],
   "source": [
    "sample_df.isnull().sum()"
   ]
  },
  {
   "cell_type": "markdown",
   "metadata": {},
   "source": [
    "### Windspeed and Gust Column missing vals"
   ]
  },
  {
   "cell_type": "markdown",
   "metadata": {},
   "source": [
    "This [article](https://sciencing.com/winds-formed-5145233.html) suggests that wind-speed is affected by temperature and air pressure. So,lets find mean of windspeed between range of temp fill nans accordingly.\n",
    "\n",
    "This [article](http://www.differencebetween.net/science/nature/difference-between-gust-and-wind/#:~:text=A%20gust%20is%20a%20sudden,comes%20in%202%2Dminute%20intervals.&text=A%20gust%20and%20wind%20both,earth's%20atmosphere%20around%20the%20earth.) suggest that gust is sudden change in windspeed due to terrain. So, using instant temperature to weighted mean to replace nans seems feaible for gust"
   ]
  },
  {
   "cell_type": "code",
   "execution_count": 81,
   "metadata": {
    "ExecuteTime": {
     "end_time": "2020-06-08T22:27:24.658552Z",
     "start_time": "2020-06-08T22:27:24.625644Z"
    }
   },
   "outputs": [
    {
     "data": {
      "text/plain": [
       "(-3.447, 5.82]     6623\n",
       "(5.82, 15.04]      8143\n",
       "(15.04, 24.26]    56291\n",
       "(24.26, 33.48]    27821\n",
       "(33.48, 42.7]      1121\n",
       "Name: temp, dtype: int64"
      ]
     },
     "execution_count": 81,
     "metadata": {},
     "output_type": "execute_result"
    }
   ],
   "source": [
    "sample_df['temp'].value_counts(bins=5).sort_index()"
   ]
  },
  {
   "cell_type": "markdown",
   "metadata": {},
   "source": [
    "Instead of looping throuh ranges 10 intervals , lets just use 5 intervals like above"
   ]
  },
  {
   "cell_type": "code",
   "execution_count": 82,
   "metadata": {
    "ExecuteTime": {
     "end_time": "2020-06-08T22:27:32.661370Z",
     "start_time": "2020-06-08T22:27:32.592144Z"
    }
   },
   "outputs": [],
   "source": [
    "# Create five ranges of mean according to above interval for windspeed\n",
    "\n",
    "first_range_mean_wdsp= sample_df[((sample_df['temp']>=-3.447) & (sample_df['temp']<5.82)) ]['wdsp'].mean()\n",
    "second_range_mean_wdsp= sample_df[((sample_df['temp']>=5.82) & (sample_df['temp']<15.04))  ]['wdsp'].mean()\n",
    "third_range_mean_wdsp= sample_df[((sample_df['temp']>=15.04) & (sample_df['temp']<24.26))  ]['wdsp'].mean()\n",
    "fourth_range_mean_wdsp= sample_df[((sample_df['temp']>=24.26) & (sample_df['temp']<33.48))  ]['wdsp'].mean()\n",
    "fifth_range_mean_wdsp= sample_df[((sample_df['temp']>=33.48) & (sample_df['temp']<42.7)) ]['wdsp'].mean()"
   ]
  },
  {
   "cell_type": "code",
   "execution_count": 83,
   "metadata": {
    "ExecuteTime": {
     "end_time": "2020-06-08T22:27:40.752118Z",
     "start_time": "2020-06-08T22:27:40.695270Z"
    }
   },
   "outputs": [],
   "source": [
    "# Create five ranges of mean according to above interval for airpressure\n",
    "\n",
    "first_range_mean_gust= sample_df[((sample_df['temp']>=-3.447) & (sample_df['temp']<5.82)) ]['gust'].mean()\n",
    "second_range_mean_gust= sample_df[((sample_df['temp']>=5.82) & (sample_df['temp']<15.04))  ]['gust'].mean()\n",
    "third_range_mean_gust= sample_df[((sample_df['temp']>=15.04) & (sample_df['temp']<24.26))  ]['gust'].mean()\n",
    "fourth_range_mean_gust= sample_df[((sample_df['temp']>=24.26) & (sample_df['temp']<33.48))  ]['gust'].mean()\n",
    "fifth_range_mean_gust= sample_df[((sample_df['temp']>=33.48) & (sample_df['temp']<42.7)) ]['gust'].mean()"
   ]
  },
  {
   "cell_type": "code",
   "execution_count": 84,
   "metadata": {
    "ExecuteTime": {
     "end_time": "2020-06-08T22:27:48.880327Z",
     "start_time": "2020-06-08T22:27:48.869357Z"
    }
   },
   "outputs": [
    {
     "name": "stdout",
     "output_type": "stream",
     "text": [
      "0.04393777642214428 1.8885478342162743 1.998070520277601 2.474517157322322 2.4622504537205057\n",
      "0.10679405520169853 3.809891143663473 4.432743052349683 5.775794808225169 6.443202146690513\n"
     ]
    }
   ],
   "source": [
    "print(first_range_mean_wdsp, second_range_mean_wdsp,third_range_mean_wdsp,fourth_range_mean_wdsp,fifth_range_mean_wdsp)\n",
    "print(first_range_mean_gust, second_range_mean_gust,third_range_mean_gust,fourth_range_mean_gust,fifth_range_mean_gust)"
   ]
  },
  {
   "cell_type": "markdown",
   "metadata": {},
   "source": [
    "Create a function to fill missing values"
   ]
  },
  {
   "cell_type": "code",
   "execution_count": 85,
   "metadata": {
    "ExecuteTime": {
     "end_time": "2020-06-08T22:27:56.540541Z",
     "start_time": "2020-06-08T22:27:56.526578Z"
    }
   },
   "outputs": [],
   "source": [
    "# this funciton will take two cols, temp and wdsp in this order\n",
    "#math is imported to check nan, np.nan wont work\n",
    "def fill_missing_wdsp(col):\n",
    "    import math\n",
    "#Initialize relevant cols\n",
    "    temp = col[0]\n",
    "    wdsp = col[1]\n",
    "    \n",
    "    # If the value is nan\n",
    "    #Assign by ranges declared above\n",
    "    if math.isnan(wdsp):\n",
    "        if(temp<5.82):\n",
    "            return first_range_mean_wdsp\n",
    "        elif(temp>=5.82) and (temp<15.04):\n",
    "            return second_range_mean_wdsp\n",
    "        elif(temp>=15.04) and (temp<24.26):\n",
    "            return third_range_mean_wdsp\n",
    "        elif(temp>=24.26) and (temp<33.48):\n",
    "            return fourth_range_mean_wdsp\n",
    "        elif(temp>=33.48):\n",
    "            return fifth_range_mean_wdsp\n",
    "        #if not nan return as it is\n",
    "    else:\n",
    "        return wdsp\n",
    "    \n",
    "    "
   ]
  },
  {
   "cell_type": "code",
   "execution_count": 86,
   "metadata": {
    "ExecuteTime": {
     "end_time": "2020-06-08T22:28:04.520353Z",
     "start_time": "2020-06-08T22:28:04.508386Z"
    }
   },
   "outputs": [],
   "source": [
    "# this funciton will take two cols, temp and gust in this order\n",
    "#math is imported to check nan, np.nan wont work\n",
    "def fill_missing_gust(col):\n",
    "    import math\n",
    "#Initialize relevant cols\n",
    "    temp = col[0]\n",
    "    gust = col[1]\n",
    "    \n",
    "    # If the value is nan\n",
    "    #Assign by ranges declared above\n",
    "    if math.isnan(gust):\n",
    "        if(temp<5.82):\n",
    "            return first_range_mean_gust\n",
    "        elif(temp>=5.82) and (temp<15.04):\n",
    "            return second_range_mean_gust\n",
    "        elif(temp>=15.04) and (temp<24.26):\n",
    "            return third_range_mean_gust\n",
    "        elif(temp>=24.26) and (temp<33.48):\n",
    "            return fourth_range_mean_gust\n",
    "        elif(temp>=33.48):\n",
    "            return fifth_range_mean_gust\n",
    "        #if not nan return as it is\n",
    "    else:\n",
    "        return gust\n",
    "    "
   ]
  },
  {
   "cell_type": "code",
   "execution_count": 87,
   "metadata": {
    "ExecuteTime": {
     "end_time": "2020-06-08T22:28:22.630581Z",
     "start_time": "2020-06-08T22:28:15.441416Z"
    }
   },
   "outputs": [],
   "source": [
    "sample_df['wdsp'] = sample_df[['temp','wdsp']].apply(fill_missing_wdsp,axis=1)\n",
    "sample_df['gust'] = sample_df[['temp','gust']].apply(fill_missing_gust,axis=1)"
   ]
  },
  {
   "cell_type": "markdown",
   "metadata": {},
   "source": [
    "# Data Analysis"
   ]
  },
  {
   "cell_type": "markdown",
   "metadata": {},
   "source": [
    "### Extracting Air Pressure Table"
   ]
  },
  {
   "cell_type": "code",
   "execution_count": 88,
   "metadata": {
    "ExecuteTime": {
     "end_time": "2020-06-08T22:28:38.719504Z",
     "start_time": "2020-06-08T22:28:38.705553Z"
    }
   },
   "outputs": [],
   "source": [
    "air=sample_df[['city','prov','stp','smax','smin']]"
   ]
  },
  {
   "cell_type": "code",
   "execution_count": 89,
   "metadata": {
    "ExecuteTime": {
     "end_time": "2020-06-08T22:28:48.742006Z",
     "start_time": "2020-06-08T22:28:48.693135Z"
    }
   },
   "outputs": [
    {
     "data": {
      "text/html": [
       "<div>\n",
       "<style scoped>\n",
       "    .dataframe tbody tr th:only-of-type {\n",
       "        vertical-align: middle;\n",
       "    }\n",
       "\n",
       "    .dataframe tbody tr th {\n",
       "        vertical-align: top;\n",
       "    }\n",
       "\n",
       "    .dataframe thead th {\n",
       "        text-align: right;\n",
       "    }\n",
       "</style>\n",
       "<table border=\"1\" class=\"dataframe\">\n",
       "  <thead>\n",
       "    <tr style=\"text-align: right;\">\n",
       "      <th></th>\n",
       "      <th>city</th>\n",
       "      <th>prov</th>\n",
       "      <th>stp</th>\n",
       "      <th>smax</th>\n",
       "      <th>smin</th>\n",
       "    </tr>\n",
       "    <tr>\n",
       "      <th>date</th>\n",
       "      <th></th>\n",
       "      <th></th>\n",
       "      <th></th>\n",
       "      <th></th>\n",
       "      <th></th>\n",
       "    </tr>\n",
       "  </thead>\n",
       "  <tbody>\n",
       "    <tr>\n",
       "      <th>2009-09-10 16:00:00</th>\n",
       "      <td>São Mateus</td>\n",
       "      <td>ES</td>\n",
       "      <td>1017.7</td>\n",
       "      <td>1018.4</td>\n",
       "      <td>1017.7</td>\n",
       "    </tr>\n",
       "    <tr>\n",
       "      <th>2011-10-12 06:00:00</th>\n",
       "      <td>Pradópolis</td>\n",
       "      <td>SP</td>\n",
       "      <td>949.3</td>\n",
       "      <td>949.7</td>\n",
       "      <td>949.2</td>\n",
       "    </tr>\n",
       "    <tr>\n",
       "      <th>2009-05-13 11:00:00</th>\n",
       "      <td>Jales</td>\n",
       "      <td>SP</td>\n",
       "      <td>961.9</td>\n",
       "      <td>961.9</td>\n",
       "      <td>961.2</td>\n",
       "    </tr>\n",
       "    <tr>\n",
       "      <th>2016-07-05 14:00:00</th>\n",
       "      <td>Itapira</td>\n",
       "      <td>SP</td>\n",
       "      <td>950.1</td>\n",
       "      <td>950.5</td>\n",
       "      <td>950.1</td>\n",
       "    </tr>\n",
       "    <tr>\n",
       "      <th>2014-02-15 18:00:00</th>\n",
       "      <td>Itapeva</td>\n",
       "      <td>SP</td>\n",
       "      <td>931.6</td>\n",
       "      <td>932.4</td>\n",
       "      <td>931.6</td>\n",
       "    </tr>\n",
       "  </tbody>\n",
       "</table>\n",
       "</div>"
      ],
      "text/plain": [
       "                           city prov     stp    smax    smin\n",
       "date                                                        \n",
       "2009-09-10 16:00:00  São Mateus   ES  1017.7  1018.4  1017.7\n",
       "2011-10-12 06:00:00  Pradópolis   SP   949.3   949.7   949.2\n",
       "2009-05-13 11:00:00       Jales   SP   961.9   961.9   961.2\n",
       "2016-07-05 14:00:00     Itapira   SP   950.1   950.5   950.1\n",
       "2014-02-15 18:00:00     Itapeva   SP   931.6   932.4   931.6"
      ]
     },
     "execution_count": 89,
     "metadata": {},
     "output_type": "execute_result"
    }
   ],
   "source": [
    "air.head()"
   ]
  },
  {
   "cell_type": "markdown",
   "metadata": {},
   "source": [
    "#### Table to find out mean, min, max of smax for each city in each year"
   ]
  },
  {
   "cell_type": "code",
   "execution_count": 101,
   "metadata": {
    "ExecuteTime": {
     "end_time": "2020-06-08T22:39:39.041685Z",
     "start_time": "2020-06-08T22:39:38.870153Z"
    }
   },
   "outputs": [
    {
     "data": {
      "text/html": [
       "<div>\n",
       "<style scoped>\n",
       "    .dataframe tbody tr th:only-of-type {\n",
       "        vertical-align: middle;\n",
       "    }\n",
       "\n",
       "    .dataframe tbody tr th {\n",
       "        vertical-align: top;\n",
       "    }\n",
       "\n",
       "    .dataframe thead th {\n",
       "        text-align: right;\n",
       "    }\n",
       "</style>\n",
       "<table border=\"1\" class=\"dataframe\">\n",
       "  <thead>\n",
       "    <tr style=\"text-align: right;\">\n",
       "      <th></th>\n",
       "      <th></th>\n",
       "      <th>min</th>\n",
       "      <th>max</th>\n",
       "    </tr>\n",
       "    <tr>\n",
       "      <th>row_0</th>\n",
       "      <th>city</th>\n",
       "      <th></th>\n",
       "      <th></th>\n",
       "    </tr>\n",
       "  </thead>\n",
       "  <tbody>\n",
       "    <tr>\n",
       "      <th>2000</th>\n",
       "      <th>Seropédica</th>\n",
       "      <td>0.0</td>\n",
       "      <td>1022.1</td>\n",
       "    </tr>\n",
       "    <tr>\n",
       "      <th rowspan=\"2\" valign=\"top\">2001</th>\n",
       "      <th>Bauru</th>\n",
       "      <td>933.9</td>\n",
       "      <td>947.8</td>\n",
       "    </tr>\n",
       "    <tr>\n",
       "      <th>Seropédica</th>\n",
       "      <td>0.0</td>\n",
       "      <td>1021.0</td>\n",
       "    </tr>\n",
       "    <tr>\n",
       "      <th rowspan=\"2\" valign=\"top\">2002</th>\n",
       "      <th>Almenara</th>\n",
       "      <td>993.7</td>\n",
       "      <td>994.1</td>\n",
       "    </tr>\n",
       "    <tr>\n",
       "      <th>Araxá</th>\n",
       "      <td>892.3</td>\n",
       "      <td>910.4</td>\n",
       "    </tr>\n",
       "    <tr>\n",
       "      <th>...</th>\n",
       "      <th>...</th>\n",
       "      <td>...</td>\n",
       "      <td>...</td>\n",
       "    </tr>\n",
       "    <tr>\n",
       "      <th rowspan=\"5\" valign=\"top\">2016</th>\n",
       "      <th>Varginha</th>\n",
       "      <td>0.0</td>\n",
       "      <td>916.4</td>\n",
       "    </tr>\n",
       "    <tr>\n",
       "      <th>Vitória</th>\n",
       "      <td>1008.5</td>\n",
       "      <td>1025.7</td>\n",
       "    </tr>\n",
       "    <tr>\n",
       "      <th>Viçosa</th>\n",
       "      <td>930.9</td>\n",
       "      <td>945.8</td>\n",
       "    </tr>\n",
       "    <tr>\n",
       "      <th>Votuporanga</th>\n",
       "      <td>954.0</td>\n",
       "      <td>971.5</td>\n",
       "    </tr>\n",
       "    <tr>\n",
       "      <th>Águas Vermelhas</th>\n",
       "      <td>0.0</td>\n",
       "      <td>939.5</td>\n",
       "    </tr>\n",
       "  </tbody>\n",
       "</table>\n",
       "<p>1188 rows × 2 columns</p>\n",
       "</div>"
      ],
      "text/plain": [
       "                          min     max\n",
       "row_0 city                           \n",
       "2000  Seropédica          0.0  1022.1\n",
       "2001  Bauru             933.9   947.8\n",
       "      Seropédica          0.0  1021.0\n",
       "2002  Almenara          993.7   994.1\n",
       "      Araxá             892.3   910.4\n",
       "...                       ...     ...\n",
       "2016  Varginha            0.0   916.4\n",
       "      Vitória          1008.5  1025.7\n",
       "      Viçosa            930.9   945.8\n",
       "      Votuporanga       954.0   971.5\n",
       "      Águas Vermelhas     0.0   939.5\n",
       "\n",
       "[1188 rows x 2 columns]"
      ]
     },
     "execution_count": 101,
     "metadata": {},
     "output_type": "execute_result"
    }
   ],
   "source": [
    "pd.crosstab(index=air.index.year,columns=air.city,values=air.smax,aggfunc=['min','max']).stack()"
   ]
  },
  {
   "cell_type": "markdown",
   "metadata": {},
   "source": [
    "#### Table to find out mean, min, max of smin for each city in each year"
   ]
  },
  {
   "cell_type": "code",
   "execution_count": 100,
   "metadata": {
    "ExecuteTime": {
     "end_time": "2020-06-08T22:39:29.409552Z",
     "start_time": "2020-06-08T22:39:29.292865Z"
    }
   },
   "outputs": [
    {
     "data": {
      "text/html": [
       "<div>\n",
       "<style scoped>\n",
       "    .dataframe tbody tr th:only-of-type {\n",
       "        vertical-align: middle;\n",
       "    }\n",
       "\n",
       "    .dataframe tbody tr th {\n",
       "        vertical-align: top;\n",
       "    }\n",
       "\n",
       "    .dataframe thead th {\n",
       "        text-align: right;\n",
       "    }\n",
       "</style>\n",
       "<table border=\"1\" class=\"dataframe\">\n",
       "  <thead>\n",
       "    <tr style=\"text-align: right;\">\n",
       "      <th></th>\n",
       "      <th></th>\n",
       "      <th>min</th>\n",
       "      <th>max</th>\n",
       "    </tr>\n",
       "    <tr>\n",
       "      <th>row_0</th>\n",
       "      <th>city</th>\n",
       "      <th></th>\n",
       "      <th></th>\n",
       "    </tr>\n",
       "  </thead>\n",
       "  <tbody>\n",
       "    <tr>\n",
       "      <th>2000</th>\n",
       "      <th>Seropédica</th>\n",
       "      <td>0.0</td>\n",
       "      <td>1021.6</td>\n",
       "    </tr>\n",
       "    <tr>\n",
       "      <th rowspan=\"2\" valign=\"top\">2001</th>\n",
       "      <th>Bauru</th>\n",
       "      <td>932.7</td>\n",
       "      <td>947.1</td>\n",
       "    </tr>\n",
       "    <tr>\n",
       "      <th>Seropédica</th>\n",
       "      <td>0.0</td>\n",
       "      <td>1020.7</td>\n",
       "    </tr>\n",
       "    <tr>\n",
       "      <th rowspan=\"2\" valign=\"top\">2002</th>\n",
       "      <th>Almenara</th>\n",
       "      <td>993.4</td>\n",
       "      <td>993.5</td>\n",
       "    </tr>\n",
       "    <tr>\n",
       "      <th>Araxá</th>\n",
       "      <td>887.3</td>\n",
       "      <td>909.3</td>\n",
       "    </tr>\n",
       "    <tr>\n",
       "      <th>...</th>\n",
       "      <th>...</th>\n",
       "      <td>...</td>\n",
       "      <td>...</td>\n",
       "    </tr>\n",
       "    <tr>\n",
       "      <th rowspan=\"5\" valign=\"top\">2016</th>\n",
       "      <th>Varginha</th>\n",
       "      <td>0.0</td>\n",
       "      <td>915.8</td>\n",
       "    </tr>\n",
       "    <tr>\n",
       "      <th>Vitória</th>\n",
       "      <td>1008.3</td>\n",
       "      <td>1025.2</td>\n",
       "    </tr>\n",
       "    <tr>\n",
       "      <th>Viçosa</th>\n",
       "      <td>930.5</td>\n",
       "      <td>945.5</td>\n",
       "    </tr>\n",
       "    <tr>\n",
       "      <th>Votuporanga</th>\n",
       "      <td>953.3</td>\n",
       "      <td>970.8</td>\n",
       "    </tr>\n",
       "    <tr>\n",
       "      <th>Águas Vermelhas</th>\n",
       "      <td>0.0</td>\n",
       "      <td>938.9</td>\n",
       "    </tr>\n",
       "  </tbody>\n",
       "</table>\n",
       "<p>1188 rows × 2 columns</p>\n",
       "</div>"
      ],
      "text/plain": [
       "                          min     max\n",
       "row_0 city                           \n",
       "2000  Seropédica          0.0  1021.6\n",
       "2001  Bauru             932.7   947.1\n",
       "      Seropédica          0.0  1020.7\n",
       "2002  Almenara          993.4   993.5\n",
       "      Araxá             887.3   909.3\n",
       "...                       ...     ...\n",
       "2016  Varginha            0.0   915.8\n",
       "      Vitória          1008.3  1025.2\n",
       "      Viçosa            930.5   945.5\n",
       "      Votuporanga       953.3   970.8\n",
       "      Águas Vermelhas     0.0   938.9\n",
       "\n",
       "[1188 rows x 2 columns]"
      ]
     },
     "execution_count": 100,
     "metadata": {},
     "output_type": "execute_result"
    }
   ],
   "source": [
    "pd.crosstab(index=air.index.year,columns=air.city,values=air.smin,aggfunc=['min','max']).stack()"
   ]
  },
  {
   "cell_type": "code",
   "execution_count": 92,
   "metadata": {
    "ExecuteTime": {
     "end_time": "2020-06-08T22:30:09.060876Z",
     "start_time": "2020-06-08T22:30:09.006022Z"
    }
   },
   "outputs": [
    {
     "data": {
      "text/plain": [
       "array(['São Mateus', 'Pradópolis', 'Jales', 'Itapira', 'Itapeva',\n",
       "       'Viçosa', 'Juiz de Fora', 'José Bonifácio', 'Mantena',\n",
       "       'Barra do Turvo', 'Campos do Jordão', 'São João del Rei',\n",
       "       'Formiga', 'Camanducaia', 'Aimorés', 'Avaré', 'Salinas',\n",
       "       'Duque de Caxias', 'Timóteo', 'Bauru', 'João Pinheiro', 'Muriaé',\n",
       "       'Governador Valadares', 'Pirapora', 'Rio de Janeiro',\n",
       "       'Campos dos Goytacazes', 'Teófilo Otoni', 'Caldas',\n",
       "       'Montes Claros', 'Cambuci', 'Franca', 'Ituverava', 'Três Marias',\n",
       "       'Montalvânia', 'Rancharia', 'Arraial do Cabo', 'Curvelo',\n",
       "       'Caratinga', 'Araxá', 'São Gonçalo', 'Casa Branca',\n",
       "       'São Luís do Paraitinga', 'Passos', 'Linhares', 'Campina Verde',\n",
       "       'Ibirité', 'São Miguel Arcanjo', 'Resende', 'Teresópolis',\n",
       "       'Guanhães', 'Barra Bonita', 'Sorocaba', 'Porteirinha',\n",
       "       'Chapada Gaúcha', 'São Romão', 'Taubaté', 'Coronel Pacheco',\n",
       "       'Alegre', 'Guarujá', 'Seropédica', 'Serra dos Aimorés',\n",
       "       'Águas Vermelhas', 'Dores do Indaiá', 'Almenara', 'Passa Quatro',\n",
       "       'Patrocínio', 'São Paulo', 'Presidente Prudente',\n",
       "       'Rio Pardo de Minas', 'Iguape', 'Varginha', 'Petrópolis',\n",
       "       'Vitória', 'Ituiutaba', 'Belo Horizonte', 'Diamantina',\n",
       "       'Guarda-Mor', 'Nova Venécia', 'Parati', 'Ourinhos', 'Barbacena',\n",
       "       'Ouro Branco', 'Itaobim', 'Santa Teresa', 'Uberlândia',\n",
       "       'Nova Friburgo', 'Alfredo Chaves', 'Florestal', 'Piracicaba',\n",
       "       'Valparaíso', 'Espinosa', 'Capelinha', 'Ibitinga', 'Sacramento',\n",
       "       'Valença', 'Ariranha', 'Conceição das Alagoas', 'Macaé', 'Buritis',\n",
       "       'São Carlos', 'Barueri', 'Presidente Kennedy', 'Maria da Fé',\n",
       "       'Afonso Cláudio', 'Lins', 'Barretos', 'Saquarema', 'Unaí',\n",
       "       'Pompéu', 'Votuporanga', 'Manhuaçu', 'Silva Jardim', 'Três Rios',\n",
       "       'São Sebastião do Paraíso', 'Rio Claro', 'Sete Lagoas', 'Januária'],\n",
       "      dtype=object)"
      ]
     },
     "execution_count": 92,
     "metadata": {},
     "output_type": "execute_result"
    }
   ],
   "source": [
    "air['city'].unique()"
   ]
  },
  {
   "cell_type": "code",
   "execution_count": 93,
   "metadata": {
    "ExecuteTime": {
     "end_time": "2020-06-08T22:30:17.758729Z",
     "start_time": "2020-06-08T22:30:17.725817Z"
    }
   },
   "outputs": [
    {
     "data": {
      "text/plain": [
       "Int64Index([2009, 2011, 2016, 2014, 2007, 2006, 2015, 2008, 2004, 2010, 2005,\n",
       "            2012, 2013, 2003, 2002, 2001, 2000],\n",
       "           dtype='int64', name='date')"
      ]
     },
     "execution_count": 93,
     "metadata": {},
     "output_type": "execute_result"
    }
   ],
   "source": [
    "air.index.year.unique()"
   ]
  },
  {
   "cell_type": "markdown",
   "metadata": {},
   "source": [
    "#### Find out the mean air pressure (instant) values for each year and plot it "
   ]
  },
  {
   "cell_type": "code",
   "execution_count": 94,
   "metadata": {
    "ExecuteTime": {
     "end_time": "2020-06-08T22:30:35.718168Z",
     "start_time": "2020-06-08T22:30:35.704198Z"
    }
   },
   "outputs": [],
   "source": [
    "def pressure_city_yearly(val):\n",
    "    b=air[air['city']==val]\n",
    "    yearly=b.groupby(b.index.year)['stp'].agg('mean')\n",
    "    print(val)\n",
    "    print(yearly)\n",
    "    plt.figure(figsize=(12,5))\n",
    "    plt.plot(yearly)\n",
    "    plt.ylim((690,1000))\n",
    "    plt.xlim((2000,2016))\n",
    "    plt.show()"
   ]
  },
  {
   "cell_type": "code",
   "execution_count": 95,
   "metadata": {
    "ExecuteTime": {
     "end_time": "2020-06-08T22:30:49.330370Z",
     "start_time": "2020-06-08T22:30:48.864511Z"
    }
   },
   "outputs": [
    {
     "name": "stdout",
     "output_type": "stream",
     "text": [
      "Espinosa\n",
      "date\n",
      "2007    852.990000\n",
      "2008    950.197590\n",
      "2009    949.346512\n",
      "2010    950.225610\n",
      "2011    949.931522\n",
      "2012    949.922368\n",
      "2013    798.532979\n",
      "2014    816.346739\n",
      "2015    950.777895\n",
      "2016    950.733898\n",
      "Name: stp, dtype: float64\n"
     ]
    },
    {
     "data": {
      "image/png": "[encoded data removed]",
      "text/plain": [
       "<Figure size 864x360 with 1 Axes>"
      ]
     },
     "metadata": {},
     "output_type": "display_data"
    }
   ],
   "source": [
    "pressure_city_yearly('Espinosa')"
   ]
  },
  {
   "cell_type": "code",
   "execution_count": 96,
   "metadata": {
    "ExecuteTime": {
     "end_time": "2020-06-08T22:30:58.331759Z",
     "start_time": "2020-06-08T22:30:57.996911Z"
    }
   },
   "outputs": [
    {
     "name": "stdout",
     "output_type": "stream",
     "text": [
      "Afonso Cláudio\n",
      "date\n",
      "2011    905.389474\n",
      "2012    855.070968\n",
      "2013    696.708081\n",
      "2014    957.713483\n",
      "2015    905.397802\n",
      "2016    712.638462\n",
      "Name: stp, dtype: float64\n"
     ]
    },
    {
     "data": {
      "image/png": "[encoded data removed]",
      "text/plain": [
       "<Figure size 864x360 with 1 Axes>"
      ]
     },
     "metadata": {},
     "output_type": "display_data"
    }
   ],
   "source": [
    "pressure_city_yearly('Afonso Cláudio')"
   ]
  },
  {
   "cell_type": "code",
   "execution_count": 97,
   "metadata": {
    "ExecuteTime": {
     "end_time": "2020-06-08T22:31:08.284706Z",
     "start_time": "2020-06-08T22:31:07.854336Z"
    }
   },
   "outputs": [
    {
     "name": "stdout",
     "output_type": "stream",
     "text": [
      "Juiz de Fora\n",
      "date\n",
      "2007    858.607692\n",
      "2008    911.222727\n",
      "2009    910.590110\n",
      "2010    891.038462\n",
      "2011    900.038554\n",
      "2012    912.516471\n",
      "2013    911.543011\n",
      "2014    912.043750\n",
      "2015    912.224742\n",
      "2016    912.280645\n",
      "Name: stp, dtype: float64\n"
     ]
    },
    {
     "data": {
      "image/png": "[encoded data removed]",
      "text/plain": [
       "<Figure size 864x360 with 1 Axes>"
      ]
     },
     "metadata": {},
     "output_type": "display_data"
    }
   ],
   "source": [
    "pressure_city_yearly('Juiz de Fora')"
   ]
  },
  {
   "cell_type": "markdown",
   "metadata": {},
   "source": [
    "#### Table of mean of smax and smin in each city each year"
   ]
  },
  {
   "cell_type": "code",
   "execution_count": 98,
   "metadata": {
    "ExecuteTime": {
     "end_time": "2020-06-08T22:32:14.169889Z",
     "start_time": "2020-06-08T22:32:14.056195Z"
    },
    "scrolled": true
   },
   "outputs": [
    {
     "data": {
      "text/html": [
       "<div>\n",
       "<style scoped>\n",
       "    .dataframe tbody tr th:only-of-type {\n",
       "        vertical-align: middle;\n",
       "    }\n",
       "\n",
       "    .dataframe tbody tr th {\n",
       "        vertical-align: top;\n",
       "    }\n",
       "\n",
       "    .dataframe thead th {\n",
       "        text-align: right;\n",
       "    }\n",
       "</style>\n",
       "<table border=\"1\" class=\"dataframe\">\n",
       "  <thead>\n",
       "    <tr style=\"text-align: right;\">\n",
       "      <th></th>\n",
       "      <th></th>\n",
       "      <th>smax</th>\n",
       "      <th>smin</th>\n",
       "    </tr>\n",
       "    <tr>\n",
       "      <th>date</th>\n",
       "      <th>city</th>\n",
       "      <th></th>\n",
       "      <th></th>\n",
       "    </tr>\n",
       "  </thead>\n",
       "  <tbody>\n",
       "    <tr>\n",
       "      <th>2000</th>\n",
       "      <th>Seropédica</th>\n",
       "      <td>922.787500</td>\n",
       "      <td>922.319643</td>\n",
       "    </tr>\n",
       "    <tr>\n",
       "      <th rowspan=\"2\" valign=\"top\">2001</th>\n",
       "      <th>Bauru</th>\n",
       "      <td>941.060606</td>\n",
       "      <td>940.472727</td>\n",
       "    </tr>\n",
       "    <tr>\n",
       "      <th>Seropédica</th>\n",
       "      <td>788.363559</td>\n",
       "      <td>787.982203</td>\n",
       "    </tr>\n",
       "    <tr>\n",
       "      <th rowspan=\"2\" valign=\"top\">2002</th>\n",
       "      <th>Almenara</th>\n",
       "      <td>993.900000</td>\n",
       "      <td>993.450000</td>\n",
       "    </tr>\n",
       "    <tr>\n",
       "      <th>Araxá</th>\n",
       "      <td>900.033333</td>\n",
       "      <td>897.800000</td>\n",
       "    </tr>\n",
       "    <tr>\n",
       "      <th>...</th>\n",
       "      <th>...</th>\n",
       "      <td>...</td>\n",
       "      <td>...</td>\n",
       "    </tr>\n",
       "    <tr>\n",
       "      <th rowspan=\"5\" valign=\"top\">2016</th>\n",
       "      <th>Varginha</th>\n",
       "      <td>505.842857</td>\n",
       "      <td>505.538095</td>\n",
       "    </tr>\n",
       "    <tr>\n",
       "      <th>Vitória</th>\n",
       "      <td>1017.429688</td>\n",
       "      <td>1016.918750</td>\n",
       "    </tr>\n",
       "    <tr>\n",
       "      <th>Viçosa</th>\n",
       "      <td>938.461194</td>\n",
       "      <td>938.008955</td>\n",
       "    </tr>\n",
       "    <tr>\n",
       "      <th>Votuporanga</th>\n",
       "      <td>961.327632</td>\n",
       "      <td>960.790789</td>\n",
       "    </tr>\n",
       "    <tr>\n",
       "      <th>Águas Vermelhas</th>\n",
       "      <td>749.198485</td>\n",
       "      <td>748.772727</td>\n",
       "    </tr>\n",
       "  </tbody>\n",
       "</table>\n",
       "<p>1188 rows × 2 columns</p>\n",
       "</div>"
      ],
      "text/plain": [
       "                             smax         smin\n",
       "date city                                     \n",
       "2000 Seropédica        922.787500   922.319643\n",
       "2001 Bauru             941.060606   940.472727\n",
       "     Seropédica        788.363559   787.982203\n",
       "2002 Almenara          993.900000   993.450000\n",
       "     Araxá             900.033333   897.800000\n",
       "...                           ...          ...\n",
       "2016 Varginha          505.842857   505.538095\n",
       "     Vitória          1017.429688  1016.918750\n",
       "     Viçosa            938.461194   938.008955\n",
       "     Votuporanga       961.327632   960.790789\n",
       "     Águas Vermelhas   749.198485   748.772727\n",
       "\n",
       "[1188 rows x 2 columns]"
      ]
     },
     "execution_count": 98,
     "metadata": {},
     "output_type": "execute_result"
    }
   ],
   "source": [
    "air.pivot_table(index=air.index.year,columns='city',values=['smax','smin'],aggfunc='mean').stack()"
   ]
  },
  {
   "cell_type": "markdown",
   "metadata": {},
   "source": [
    "#### Sketching the chart for specific air pressure values with year, month and city"
   ]
  },
  {
   "cell_type": "code",
   "execution_count": 115,
   "metadata": {
    "ExecuteTime": {
     "end_time": "2020-06-08T23:07:05.123660Z",
     "start_time": "2020-06-08T23:07:05.080780Z"
    }
   },
   "outputs": [],
   "source": [
    "def monthly_plot(m,y,c):\n",
    "    air_m_y=air[(air.index.month == m) & (air.index.year == y)]\n",
    "    air_m_y_c=air_m_y[air_m_y['city']==c]\n",
    "    air_m_y_c=air_m_y_c.sort_index(ascending=True)\n",
    "    print(air_m_y_c)\n",
    "    fig=plt.figure(figsize=(16,6))\n",
    "    plt.plot(air_m_y_c['stp'],color='red')\n",
    "    plt.title('{}-{} {}'.format(y,m,c))"
   ]
  },
  {
   "cell_type": "code",
   "execution_count": 116,
   "metadata": {
    "ExecuteTime": {
     "end_time": "2020-06-08T23:07:31.513033Z",
     "start_time": "2020-06-08T23:07:29.120160Z"
    }
   },
   "outputs": [
    {
     "name": "stdout",
     "output_type": "stream",
     "text": [
      "                            city prov    stp   smax   smin\n",
      "date                                                      \n",
      "2008-10-05 05:00:00  São Gonçalo   RJ  984.9  984.9  984.7\n",
      "2008-10-07 09:00:00  São Gonçalo   RJ  989.0  989.0  988.0\n",
      "2008-10-08 22:00:00  São Gonçalo   RJ  984.1  984.1  983.6\n",
      "2008-10-09 02:00:00  São Gonçalo   RJ  986.2  986.2  985.8\n",
      "2008-10-10 02:00:00  São Gonçalo   RJ  985.9  986.0  985.7\n",
      "2008-10-10 08:00:00  São Gonçalo   RJ  986.4  986.4  985.3\n",
      "2008-10-14 11:00:00  São Gonçalo   RJ  986.0  986.1  985.6\n",
      "2008-10-21 22:00:00  São Gonçalo   RJ  984.6  984.6  984.0\n",
      "2008-10-23 21:00:00  São Gonçalo   RJ  983.9  983.9  983.3\n",
      "2008-10-24 12:00:00  São Gonçalo   RJ  989.1  989.2  989.0\n",
      "2008-10-25 05:00:00  São Gonçalo   RJ  986.6  986.7  986.5\n",
      "2008-10-28 04:00:00  São Gonçalo   RJ  984.3  984.8  984.3\n"
     ]
    },
    {
     "data": {
      "image/png": "[encoded data removed]",
      "text/plain": [
       "<Figure size 1152x432 with 1 Axes>"
      ]
     },
     "metadata": {},
     "output_type": "display_data"
    }
   ],
   "source": [
    "monthly_plot(10,2008,'São Gonçalo')"
   ]
  },
  {
   "cell_type": "code",
   "execution_count": 120,
   "metadata": {
    "ExecuteTime": {
     "end_time": "2020-06-08T23:12:46.049684Z",
     "start_time": "2020-06-08T23:12:45.178436Z"
    }
   },
   "outputs": [
    {
     "name": "stdout",
     "output_type": "stream",
     "text": [
      "                               city prov    stp   smax   smin\n",
      "date                                                         \n",
      "2009-01-01 09:00:00  José Bonifácio   SP  965.7  965.7  965.3\n",
      "2009-01-06 06:00:00  José Bonifácio   SP  962.6  962.9  962.6\n",
      "2009-01-12 10:00:00  José Bonifácio   SP  967.1  967.1  966.7\n",
      "2009-01-17 08:00:00  José Bonifácio   SP  962.6  962.6  962.4\n",
      "2009-01-18 15:00:00  José Bonifácio   SP  966.3  966.6  966.2\n"
     ]
    },
    {
     "data": {
      "image/png": "[encoded data removed]",
      "text/plain": [
       "<Figure size 1152x432 with 1 Axes>"
      ]
     },
     "metadata": {},
     "output_type": "display_data"
    }
   ],
   "source": [
    "monthly_plot(1,2009,'José Bonifácio')"
   ]
  },
  {
   "cell_type": "code",
   "execution_count": null,
   "metadata": {},
   "outputs": [],
   "source": []
  }
 ],
 "metadata": {
  "kernelspec": {
   "display_name": "Python 3",
   "language": "python",
   "name": "python3"
  },
  "language_info": {
   "codemirror_mode": {
    "name": "ipython",
    "version": 3
   },
   "file_extension": ".py",
   "mimetype": "text/x-python",
   "name": "python",
   "nbconvert_exporter": "python",
   "pygments_lexer": "ipython3",
   "version": "3.7.6"
  },
  "varInspector": {
   "cols": {
    "lenName": 16,
    "lenType": 16,
    "lenVar": 40
   },
   "kernels_config": {
    "python": {
     "delete_cmd_postfix": "",
     "delete_cmd_prefix": "del ",
     "library": "var_list.py",
     "varRefreshCmd": "print(var_dic_list())"
    },
    "r": {
     "delete_cmd_postfix": ") ",
     "delete_cmd_prefix": "rm(",
     "library": "var_list.r",
     "varRefreshCmd": "cat(var_dic_list()) "
    }
   },
   "types_to_exclude": [
    "module",
    "function",
    "builtin_function_or_method",
    "instance",
    "_Feature"
   ],
   "window_display": false
  }
 },
 "nbformat": 4,
 "nbformat_minor": 4
}
