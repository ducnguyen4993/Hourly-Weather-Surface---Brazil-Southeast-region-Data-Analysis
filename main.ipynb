{
 "cells": [
  {
   "cell_type": "code",
   "execution_count": 2,
   "metadata": {
    "ExecuteTime": {
     "end_time": "2020-06-08T08:33:53.755797Z",
     "start_time": "2020-06-08T08:33:52.274581Z"
    }
   },
   "outputs": [],
   "source": [
    "import pandas as pd\n",
    "import matplotlib.pyplot as plt\n",
    "import seaborn as sns"
   ]
  },
  {
   "cell_type": "code",
   "execution_count": 3,
   "metadata": {
    "ExecuteTime": {
     "end_time": "2020-06-08T08:34:37.896858Z",
     "start_time": "2020-06-08T08:33:55.311173Z"
    }
   },
   "outputs": [],
   "source": [
    "data=pd.read_csv('sudeste.csv')"
   ]
  },
  {
   "cell_type": "code",
   "execution_count": 4,
   "metadata": {
    "ExecuteTime": {
     "end_time": "2020-06-08T08:34:43.390320Z",
     "start_time": "2020-06-08T08:34:43.304550Z"
    }
   },
   "outputs": [
    {
     "data": {
      "text/html": [
       "<div>\n",
       "<style scoped>\n",
       "    .dataframe tbody tr th:only-of-type {\n",
       "        vertical-align: middle;\n",
       "    }\n",
       "\n",
       "    .dataframe tbody tr th {\n",
       "        vertical-align: top;\n",
       "    }\n",
       "\n",
       "    .dataframe thead th {\n",
       "        text-align: right;\n",
       "    }\n",
       "</style>\n",
       "<table border=\"1\" class=\"dataframe\">\n",
       "  <thead>\n",
       "    <tr style=\"text-align: right;\">\n",
       "      <th></th>\n",
       "      <th>wsid</th>\n",
       "      <th>wsnm</th>\n",
       "      <th>elvt</th>\n",
       "      <th>lat</th>\n",
       "      <th>lon</th>\n",
       "      <th>inme</th>\n",
       "      <th>city</th>\n",
       "      <th>prov</th>\n",
       "      <th>mdct</th>\n",
       "      <th>date</th>\n",
       "      <th>...</th>\n",
       "      <th>tmax</th>\n",
       "      <th>dmax</th>\n",
       "      <th>tmin</th>\n",
       "      <th>dmin</th>\n",
       "      <th>hmdy</th>\n",
       "      <th>hmax</th>\n",
       "      <th>hmin</th>\n",
       "      <th>wdsp</th>\n",
       "      <th>wdct</th>\n",
       "      <th>gust</th>\n",
       "    </tr>\n",
       "  </thead>\n",
       "  <tbody>\n",
       "    <tr>\n",
       "      <th>0</th>\n",
       "      <td>178</td>\n",
       "      <td>SÃO GONÇALO</td>\n",
       "      <td>237.0</td>\n",
       "      <td>-6.835777</td>\n",
       "      <td>-38.311583</td>\n",
       "      <td>A333</td>\n",
       "      <td>São Gonçalo</td>\n",
       "      <td>RJ</td>\n",
       "      <td>2007-11-06 00:00:00</td>\n",
       "      <td>2007-11-06</td>\n",
       "      <td>...</td>\n",
       "      <td>29.7</td>\n",
       "      <td>16.8</td>\n",
       "      <td>25.5</td>\n",
       "      <td>10.8</td>\n",
       "      <td>35.0</td>\n",
       "      <td>58.0</td>\n",
       "      <td>32.0</td>\n",
       "      <td>3.2</td>\n",
       "      <td>101.0</td>\n",
       "      <td>6.5</td>\n",
       "    </tr>\n",
       "    <tr>\n",
       "      <th>1</th>\n",
       "      <td>178</td>\n",
       "      <td>SÃO GONÇALO</td>\n",
       "      <td>237.0</td>\n",
       "      <td>-6.835777</td>\n",
       "      <td>-38.311583</td>\n",
       "      <td>A333</td>\n",
       "      <td>São Gonçalo</td>\n",
       "      <td>RJ</td>\n",
       "      <td>2007-11-06 01:00:00</td>\n",
       "      <td>2007-11-06</td>\n",
       "      <td>...</td>\n",
       "      <td>29.9</td>\n",
       "      <td>13.6</td>\n",
       "      <td>29.0</td>\n",
       "      <td>12.2</td>\n",
       "      <td>39.0</td>\n",
       "      <td>39.0</td>\n",
       "      <td>35.0</td>\n",
       "      <td>3.6</td>\n",
       "      <td>94.0</td>\n",
       "      <td>6.4</td>\n",
       "    </tr>\n",
       "    <tr>\n",
       "      <th>2</th>\n",
       "      <td>178</td>\n",
       "      <td>SÃO GONÇALO</td>\n",
       "      <td>237.0</td>\n",
       "      <td>-6.835777</td>\n",
       "      <td>-38.311583</td>\n",
       "      <td>A333</td>\n",
       "      <td>São Gonçalo</td>\n",
       "      <td>RJ</td>\n",
       "      <td>2007-11-06 02:00:00</td>\n",
       "      <td>2007-11-06</td>\n",
       "      <td>...</td>\n",
       "      <td>29.0</td>\n",
       "      <td>14.0</td>\n",
       "      <td>27.4</td>\n",
       "      <td>13.6</td>\n",
       "      <td>44.0</td>\n",
       "      <td>44.0</td>\n",
       "      <td>39.0</td>\n",
       "      <td>2.5</td>\n",
       "      <td>93.0</td>\n",
       "      <td>6.9</td>\n",
       "    </tr>\n",
       "    <tr>\n",
       "      <th>3</th>\n",
       "      <td>178</td>\n",
       "      <td>SÃO GONÇALO</td>\n",
       "      <td>237.0</td>\n",
       "      <td>-6.835777</td>\n",
       "      <td>-38.311583</td>\n",
       "      <td>A333</td>\n",
       "      <td>São Gonçalo</td>\n",
       "      <td>RJ</td>\n",
       "      <td>2007-11-06 03:00:00</td>\n",
       "      <td>2007-11-06</td>\n",
       "      <td>...</td>\n",
       "      <td>27.4</td>\n",
       "      <td>16.9</td>\n",
       "      <td>25.8</td>\n",
       "      <td>14.1</td>\n",
       "      <td>58.0</td>\n",
       "      <td>58.0</td>\n",
       "      <td>44.0</td>\n",
       "      <td>1.7</td>\n",
       "      <td>96.0</td>\n",
       "      <td>5.8</td>\n",
       "    </tr>\n",
       "    <tr>\n",
       "      <th>4</th>\n",
       "      <td>178</td>\n",
       "      <td>SÃO GONÇALO</td>\n",
       "      <td>237.0</td>\n",
       "      <td>-6.835777</td>\n",
       "      <td>-38.311583</td>\n",
       "      <td>A333</td>\n",
       "      <td>São Gonçalo</td>\n",
       "      <td>RJ</td>\n",
       "      <td>2007-11-06 04:00:00</td>\n",
       "      <td>2007-11-06</td>\n",
       "      <td>...</td>\n",
       "      <td>26.3</td>\n",
       "      <td>17.0</td>\n",
       "      <td>25.3</td>\n",
       "      <td>16.4</td>\n",
       "      <td>57.0</td>\n",
       "      <td>58.0</td>\n",
       "      <td>56.0</td>\n",
       "      <td>3.1</td>\n",
       "      <td>110.0</td>\n",
       "      <td>7.5</td>\n",
       "    </tr>\n",
       "  </tbody>\n",
       "</table>\n",
       "<p>5 rows × 31 columns</p>\n",
       "</div>"
      ],
      "text/plain": [
       "   wsid         wsnm   elvt       lat        lon  inme         city prov  \\\n",
       "0   178  SÃO GONÇALO  237.0 -6.835777 -38.311583  A333  São Gonçalo   RJ   \n",
       "1   178  SÃO GONÇALO  237.0 -6.835777 -38.311583  A333  São Gonçalo   RJ   \n",
       "2   178  SÃO GONÇALO  237.0 -6.835777 -38.311583  A333  São Gonçalo   RJ   \n",
       "3   178  SÃO GONÇALO  237.0 -6.835777 -38.311583  A333  São Gonçalo   RJ   \n",
       "4   178  SÃO GONÇALO  237.0 -6.835777 -38.311583  A333  São Gonçalo   RJ   \n",
       "\n",
       "                  mdct        date  ...  tmax  dmax  tmin  dmin  hmdy  hmax  \\\n",
       "0  2007-11-06 00:00:00  2007-11-06  ...  29.7  16.8  25.5  10.8  35.0  58.0   \n",
       "1  2007-11-06 01:00:00  2007-11-06  ...  29.9  13.6  29.0  12.2  39.0  39.0   \n",
       "2  2007-11-06 02:00:00  2007-11-06  ...  29.0  14.0  27.4  13.6  44.0  44.0   \n",
       "3  2007-11-06 03:00:00  2007-11-06  ...  27.4  16.9  25.8  14.1  58.0  58.0   \n",
       "4  2007-11-06 04:00:00  2007-11-06  ...  26.3  17.0  25.3  16.4  57.0  58.0   \n",
       "\n",
       "   hmin  wdsp   wdct  gust  \n",
       "0  32.0   3.2  101.0   6.5  \n",
       "1  35.0   3.6   94.0   6.4  \n",
       "2  39.0   2.5   93.0   6.9  \n",
       "3  44.0   1.7   96.0   5.8  \n",
       "4  56.0   3.1  110.0   7.5  \n",
       "\n",
       "[5 rows x 31 columns]"
      ]
     },
     "execution_count": 4,
     "metadata": {},
     "output_type": "execute_result"
    }
   ],
   "source": [
    "data.head(5)"
   ]
  },
  {
   "cell_type": "code",
   "execution_count": 5,
   "metadata": {
    "ExecuteTime": {
     "end_time": "2020-06-08T08:34:50.358074Z",
     "start_time": "2020-06-08T08:34:48.124279Z"
    }
   },
   "outputs": [],
   "source": [
    "df=data.copy()"
   ]
  },
  {
   "cell_type": "markdown",
   "metadata": {},
   "source": [
    "## General Information\n",
    "- wsid: weather station id\n",
    "- wsnm: city location of station\n",
    "- elvt: elevation\n",
    "- lat: latitude\n",
    "- lon: longtitude\n",
    "- inme: station number\n",
    "- city: city\n",
    "- prov: province\n",
    "- mcdt: observation datetime"
   ]
  },
  {
   "cell_type": "markdown",
   "metadata": {},
   "source": [
    "## Technical Information\n",
    "- prcp: amount of precipitation in millimeter (last hour)\n",
    "- stp: air pressure for the hour in hPa to tenths\n",
    "- smax: maximum air pressure\n",
    "- smin: minimum air pressure\n",
    "- gbrd: solar radiation KJ/m2\n",
    "- temp: air temperature in celsius degrees\n",
    "- dewp: dew point temperature in celsius degree\n",
    "- tmax: maximum temperature for the last hour in celsius degrees\n",
    "- dmax: maximum dew point temperature for the last hour in celsius degrees\n",
    "- tmin: minimum temperature for the last hour in celsius degrees\n",
    "- dmin: minimum dew point temperature for the last hour in celsius degrees\n",
    "- hmdy: relative humid in %\n",
    "- hmax: maximum relative humid temperature for the last hour in %\n",
    "- hmin: minimum relative humid temperature for the last hour in %\n",
    "- wdsp: wind speed in metres per second\n",
    "- wdct: wind direction in radius degrees (0-360)\n",
    "- gust: wind gust in metres per second"
   ]
  },
  {
   "cell_type": "code",
   "execution_count": 6,
   "metadata": {
    "ExecuteTime": {
     "end_time": "2020-06-08T08:35:13.788704Z",
     "start_time": "2020-06-08T08:35:13.734848Z"
    }
   },
   "outputs": [
    {
     "name": "stdout",
     "output_type": "stream",
     "text": [
      "<class 'pandas.core.frame.DataFrame'>\n",
      "RangeIndex: 9779168 entries, 0 to 9779167\n",
      "Data columns (total 31 columns):\n",
      " #   Column  Dtype  \n",
      "---  ------  -----  \n",
      " 0   wsid    int64  \n",
      " 1   wsnm    object \n",
      " 2   elvt    float64\n",
      " 3   lat     float64\n",
      " 4   lon     float64\n",
      " 5   inme    object \n",
      " 6   city    object \n",
      " 7   prov    object \n",
      " 8   mdct    object \n",
      " 9   date    object \n",
      " 10  yr      int64  \n",
      " 11  mo      int64  \n",
      " 12  da      int64  \n",
      " 13  hr      int64  \n",
      " 14  prcp    float64\n",
      " 15  stp     float64\n",
      " 16  smax    float64\n",
      " 17  smin    float64\n",
      " 18  gbrd    float64\n",
      " 19  temp    float64\n",
      " 20  dewp    float64\n",
      " 21  tmax    float64\n",
      " 22  dmax    float64\n",
      " 23  tmin    float64\n",
      " 24  dmin    float64\n",
      " 25  hmdy    float64\n",
      " 26  hmax    float64\n",
      " 27  hmin    float64\n",
      " 28  wdsp    float64\n",
      " 29  wdct    float64\n",
      " 30  gust    float64\n",
      "dtypes: float64(20), int64(5), object(6)\n",
      "memory usage: 2.3+ GB\n"
     ]
    }
   ],
   "source": [
    "df.info()"
   ]
  },
  {
   "cell_type": "code",
   "execution_count": 7,
   "metadata": {
    "ExecuteTime": {
     "end_time": "2020-06-08T08:35:35.717278Z",
     "start_time": "2020-06-08T08:35:29.847814Z"
    }
   },
   "outputs": [
    {
     "data": {
      "text/plain": [
       "wsid          0\n",
       "wsnm          0\n",
       "elvt          0\n",
       "lat           0\n",
       "lon           0\n",
       "inme          0\n",
       "city          0\n",
       "prov          0\n",
       "mdct          0\n",
       "date          0\n",
       "yr            0\n",
       "mo            0\n",
       "da            0\n",
       "hr            0\n",
       "prcp    8371184\n",
       "stp           0\n",
       "smax          0\n",
       "smin          0\n",
       "gbrd    4108820\n",
       "temp         31\n",
       "dewp        475\n",
       "tmax         26\n",
       "dmax        310\n",
       "tmin         34\n",
       "dmin        807\n",
       "hmdy          0\n",
       "hmax         12\n",
       "hmin         44\n",
       "wdsp     925561\n",
       "wdct          0\n",
       "gust     316474\n",
       "dtype: int64"
      ]
     },
     "execution_count": 7,
     "metadata": {},
     "output_type": "execute_result"
    }
   ],
   "source": [
    "df.isnull().sum()"
   ]
  },
  {
   "cell_type": "code",
   "execution_count": 8,
   "metadata": {
    "ExecuteTime": {
     "end_time": "2020-06-08T08:35:57.028091Z",
     "start_time": "2020-06-08T08:35:53.277257Z"
    }
   },
   "outputs": [],
   "source": [
    "df.drop(['lat','lon','mdct','wsid','inme','date'],axis=1,inplace=True)"
   ]
  },
  {
   "cell_type": "code",
   "execution_count": 9,
   "metadata": {
    "ExecuteTime": {
     "end_time": "2020-06-08T08:36:20.178896Z",
     "start_time": "2020-06-08T08:36:16.431436Z"
    }
   },
   "outputs": [],
   "source": [
    "df.drop('wsnm',axis=1,inplace=True)"
   ]
  },
  {
   "cell_type": "code",
   "execution_count": 10,
   "metadata": {
    "ExecuteTime": {
     "end_time": "2020-06-08T08:36:37.509760Z",
     "start_time": "2020-06-08T08:36:35.227343Z"
    }
   },
   "outputs": [],
   "source": [
    "df.drop(['prcp','gbrd'],axis=1,inplace=True)"
   ]
  },
  {
   "cell_type": "code",
   "execution_count": 11,
   "metadata": {
    "ExecuteTime": {
     "end_time": "2020-06-08T08:36:51.670783Z",
     "start_time": "2020-06-08T08:36:51.598966Z"
    }
   },
   "outputs": [
    {
     "data": {
      "text/html": [
       "<div>\n",
       "<style scoped>\n",
       "    .dataframe tbody tr th:only-of-type {\n",
       "        vertical-align: middle;\n",
       "    }\n",
       "\n",
       "    .dataframe tbody tr th {\n",
       "        vertical-align: top;\n",
       "    }\n",
       "\n",
       "    .dataframe thead th {\n",
       "        text-align: right;\n",
       "    }\n",
       "</style>\n",
       "<table border=\"1\" class=\"dataframe\">\n",
       "  <thead>\n",
       "    <tr style=\"text-align: right;\">\n",
       "      <th></th>\n",
       "      <th>elvt</th>\n",
       "      <th>city</th>\n",
       "      <th>prov</th>\n",
       "      <th>yr</th>\n",
       "      <th>mo</th>\n",
       "      <th>da</th>\n",
       "      <th>hr</th>\n",
       "      <th>stp</th>\n",
       "      <th>smax</th>\n",
       "      <th>smin</th>\n",
       "      <th>...</th>\n",
       "      <th>tmax</th>\n",
       "      <th>dmax</th>\n",
       "      <th>tmin</th>\n",
       "      <th>dmin</th>\n",
       "      <th>hmdy</th>\n",
       "      <th>hmax</th>\n",
       "      <th>hmin</th>\n",
       "      <th>wdsp</th>\n",
       "      <th>wdct</th>\n",
       "      <th>gust</th>\n",
       "    </tr>\n",
       "  </thead>\n",
       "  <tbody>\n",
       "    <tr>\n",
       "      <th>0</th>\n",
       "      <td>237.0</td>\n",
       "      <td>São Gonçalo</td>\n",
       "      <td>RJ</td>\n",
       "      <td>2007</td>\n",
       "      <td>11</td>\n",
       "      <td>6</td>\n",
       "      <td>0</td>\n",
       "      <td>982.5</td>\n",
       "      <td>982.5</td>\n",
       "      <td>981.3</td>\n",
       "      <td>...</td>\n",
       "      <td>29.7</td>\n",
       "      <td>16.8</td>\n",
       "      <td>25.5</td>\n",
       "      <td>10.8</td>\n",
       "      <td>35.0</td>\n",
       "      <td>58.0</td>\n",
       "      <td>32.0</td>\n",
       "      <td>3.2</td>\n",
       "      <td>101.0</td>\n",
       "      <td>6.5</td>\n",
       "    </tr>\n",
       "    <tr>\n",
       "      <th>1</th>\n",
       "      <td>237.0</td>\n",
       "      <td>São Gonçalo</td>\n",
       "      <td>RJ</td>\n",
       "      <td>2007</td>\n",
       "      <td>11</td>\n",
       "      <td>6</td>\n",
       "      <td>1</td>\n",
       "      <td>983.2</td>\n",
       "      <td>983.2</td>\n",
       "      <td>982.5</td>\n",
       "      <td>...</td>\n",
       "      <td>29.9</td>\n",
       "      <td>13.6</td>\n",
       "      <td>29.0</td>\n",
       "      <td>12.2</td>\n",
       "      <td>39.0</td>\n",
       "      <td>39.0</td>\n",
       "      <td>35.0</td>\n",
       "      <td>3.6</td>\n",
       "      <td>94.0</td>\n",
       "      <td>6.4</td>\n",
       "    </tr>\n",
       "    <tr>\n",
       "      <th>2</th>\n",
       "      <td>237.0</td>\n",
       "      <td>São Gonçalo</td>\n",
       "      <td>RJ</td>\n",
       "      <td>2007</td>\n",
       "      <td>11</td>\n",
       "      <td>6</td>\n",
       "      <td>2</td>\n",
       "      <td>983.5</td>\n",
       "      <td>983.5</td>\n",
       "      <td>983.2</td>\n",
       "      <td>...</td>\n",
       "      <td>29.0</td>\n",
       "      <td>14.0</td>\n",
       "      <td>27.4</td>\n",
       "      <td>13.6</td>\n",
       "      <td>44.0</td>\n",
       "      <td>44.0</td>\n",
       "      <td>39.0</td>\n",
       "      <td>2.5</td>\n",
       "      <td>93.0</td>\n",
       "      <td>6.9</td>\n",
       "    </tr>\n",
       "    <tr>\n",
       "      <th>3</th>\n",
       "      <td>237.0</td>\n",
       "      <td>São Gonçalo</td>\n",
       "      <td>RJ</td>\n",
       "      <td>2007</td>\n",
       "      <td>11</td>\n",
       "      <td>6</td>\n",
       "      <td>3</td>\n",
       "      <td>983.7</td>\n",
       "      <td>983.7</td>\n",
       "      <td>983.4</td>\n",
       "      <td>...</td>\n",
       "      <td>27.4</td>\n",
       "      <td>16.9</td>\n",
       "      <td>25.8</td>\n",
       "      <td>14.1</td>\n",
       "      <td>58.0</td>\n",
       "      <td>58.0</td>\n",
       "      <td>44.0</td>\n",
       "      <td>1.7</td>\n",
       "      <td>96.0</td>\n",
       "      <td>5.8</td>\n",
       "    </tr>\n",
       "    <tr>\n",
       "      <th>4</th>\n",
       "      <td>237.0</td>\n",
       "      <td>São Gonçalo</td>\n",
       "      <td>RJ</td>\n",
       "      <td>2007</td>\n",
       "      <td>11</td>\n",
       "      <td>6</td>\n",
       "      <td>4</td>\n",
       "      <td>983.7</td>\n",
       "      <td>983.8</td>\n",
       "      <td>983.6</td>\n",
       "      <td>...</td>\n",
       "      <td>26.3</td>\n",
       "      <td>17.0</td>\n",
       "      <td>25.3</td>\n",
       "      <td>16.4</td>\n",
       "      <td>57.0</td>\n",
       "      <td>58.0</td>\n",
       "      <td>56.0</td>\n",
       "      <td>3.1</td>\n",
       "      <td>110.0</td>\n",
       "      <td>7.5</td>\n",
       "    </tr>\n",
       "  </tbody>\n",
       "</table>\n",
       "<p>5 rows × 22 columns</p>\n",
       "</div>"
      ],
      "text/plain": [
       "    elvt         city prov    yr  mo  da  hr    stp   smax   smin  ...  tmax  \\\n",
       "0  237.0  São Gonçalo   RJ  2007  11   6   0  982.5  982.5  981.3  ...  29.7   \n",
       "1  237.0  São Gonçalo   RJ  2007  11   6   1  983.2  983.2  982.5  ...  29.9   \n",
       "2  237.0  São Gonçalo   RJ  2007  11   6   2  983.5  983.5  983.2  ...  29.0   \n",
       "3  237.0  São Gonçalo   RJ  2007  11   6   3  983.7  983.7  983.4  ...  27.4   \n",
       "4  237.0  São Gonçalo   RJ  2007  11   6   4  983.7  983.8  983.6  ...  26.3   \n",
       "\n",
       "   dmax  tmin  dmin  hmdy  hmax  hmin  wdsp   wdct  gust  \n",
       "0  16.8  25.5  10.8  35.0  58.0  32.0   3.2  101.0   6.5  \n",
       "1  13.6  29.0  12.2  39.0  39.0  35.0   3.6   94.0   6.4  \n",
       "2  14.0  27.4  13.6  44.0  44.0  39.0   2.5   93.0   6.9  \n",
       "3  16.9  25.8  14.1  58.0  58.0  44.0   1.7   96.0   5.8  \n",
       "4  17.0  25.3  16.4  57.0  58.0  56.0   3.1  110.0   7.5  \n",
       "\n",
       "[5 rows x 22 columns]"
      ]
     },
     "execution_count": 11,
     "metadata": {},
     "output_type": "execute_result"
    }
   ],
   "source": [
    "df.head(5)"
   ]
  },
  {
   "cell_type": "code",
   "execution_count": 12,
   "metadata": {
    "ExecuteTime": {
     "end_time": "2020-06-08T08:37:09.267210Z",
     "start_time": "2020-06-08T08:37:06.892932Z"
    }
   },
   "outputs": [],
   "source": [
    "df['date']=pd.to_datetime(df[['yr', 'mo', 'da','hr']].rename(columns={'yr': 'year','mo': 'month','da': 'day','hr':'hour'}))"
   ]
  },
  {
   "cell_type": "code",
   "execution_count": 13,
   "metadata": {
    "ExecuteTime": {
     "end_time": "2020-06-08T08:37:30.310396Z",
     "start_time": "2020-06-08T08:37:26.835442Z"
    }
   },
   "outputs": [],
   "source": [
    "df.drop(['yr','mo','da','hr'],axis=1,inplace=True)"
   ]
  },
  {
   "cell_type": "code",
   "execution_count": 14,
   "metadata": {
    "ExecuteTime": {
     "end_time": "2020-06-08T08:37:47.748053Z",
     "start_time": "2020-06-08T08:37:47.678248Z"
    }
   },
   "outputs": [
    {
     "data": {
      "text/html": [
       "<div>\n",
       "<style scoped>\n",
       "    .dataframe tbody tr th:only-of-type {\n",
       "        vertical-align: middle;\n",
       "    }\n",
       "\n",
       "    .dataframe tbody tr th {\n",
       "        vertical-align: top;\n",
       "    }\n",
       "\n",
       "    .dataframe thead th {\n",
       "        text-align: right;\n",
       "    }\n",
       "</style>\n",
       "<table border=\"1\" class=\"dataframe\">\n",
       "  <thead>\n",
       "    <tr style=\"text-align: right;\">\n",
       "      <th></th>\n",
       "      <th>elvt</th>\n",
       "      <th>city</th>\n",
       "      <th>prov</th>\n",
       "      <th>stp</th>\n",
       "      <th>smax</th>\n",
       "      <th>smin</th>\n",
       "      <th>temp</th>\n",
       "      <th>dewp</th>\n",
       "      <th>tmax</th>\n",
       "      <th>dmax</th>\n",
       "      <th>tmin</th>\n",
       "      <th>dmin</th>\n",
       "      <th>hmdy</th>\n",
       "      <th>hmax</th>\n",
       "      <th>hmin</th>\n",
       "      <th>wdsp</th>\n",
       "      <th>wdct</th>\n",
       "      <th>gust</th>\n",
       "      <th>date</th>\n",
       "    </tr>\n",
       "  </thead>\n",
       "  <tbody>\n",
       "    <tr>\n",
       "      <th>0</th>\n",
       "      <td>237.0</td>\n",
       "      <td>São Gonçalo</td>\n",
       "      <td>RJ</td>\n",
       "      <td>982.5</td>\n",
       "      <td>982.5</td>\n",
       "      <td>981.3</td>\n",
       "      <td>29.3</td>\n",
       "      <td>12.1</td>\n",
       "      <td>29.7</td>\n",
       "      <td>16.8</td>\n",
       "      <td>25.5</td>\n",
       "      <td>10.8</td>\n",
       "      <td>35.0</td>\n",
       "      <td>58.0</td>\n",
       "      <td>32.0</td>\n",
       "      <td>3.2</td>\n",
       "      <td>101.0</td>\n",
       "      <td>6.5</td>\n",
       "      <td>2007-11-06 00:00:00</td>\n",
       "    </tr>\n",
       "    <tr>\n",
       "      <th>1</th>\n",
       "      <td>237.0</td>\n",
       "      <td>São Gonçalo</td>\n",
       "      <td>RJ</td>\n",
       "      <td>983.2</td>\n",
       "      <td>983.2</td>\n",
       "      <td>982.5</td>\n",
       "      <td>29.0</td>\n",
       "      <td>13.5</td>\n",
       "      <td>29.9</td>\n",
       "      <td>13.6</td>\n",
       "      <td>29.0</td>\n",
       "      <td>12.2</td>\n",
       "      <td>39.0</td>\n",
       "      <td>39.0</td>\n",
       "      <td>35.0</td>\n",
       "      <td>3.6</td>\n",
       "      <td>94.0</td>\n",
       "      <td>6.4</td>\n",
       "      <td>2007-11-06 01:00:00</td>\n",
       "    </tr>\n",
       "    <tr>\n",
       "      <th>2</th>\n",
       "      <td>237.0</td>\n",
       "      <td>São Gonçalo</td>\n",
       "      <td>RJ</td>\n",
       "      <td>983.5</td>\n",
       "      <td>983.5</td>\n",
       "      <td>983.2</td>\n",
       "      <td>27.4</td>\n",
       "      <td>14.0</td>\n",
       "      <td>29.0</td>\n",
       "      <td>14.0</td>\n",
       "      <td>27.4</td>\n",
       "      <td>13.6</td>\n",
       "      <td>44.0</td>\n",
       "      <td>44.0</td>\n",
       "      <td>39.0</td>\n",
       "      <td>2.5</td>\n",
       "      <td>93.0</td>\n",
       "      <td>6.9</td>\n",
       "      <td>2007-11-06 02:00:00</td>\n",
       "    </tr>\n",
       "    <tr>\n",
       "      <th>3</th>\n",
       "      <td>237.0</td>\n",
       "      <td>São Gonçalo</td>\n",
       "      <td>RJ</td>\n",
       "      <td>983.7</td>\n",
       "      <td>983.7</td>\n",
       "      <td>983.4</td>\n",
       "      <td>25.8</td>\n",
       "      <td>16.9</td>\n",
       "      <td>27.4</td>\n",
       "      <td>16.9</td>\n",
       "      <td>25.8</td>\n",
       "      <td>14.1</td>\n",
       "      <td>58.0</td>\n",
       "      <td>58.0</td>\n",
       "      <td>44.0</td>\n",
       "      <td>1.7</td>\n",
       "      <td>96.0</td>\n",
       "      <td>5.8</td>\n",
       "      <td>2007-11-06 03:00:00</td>\n",
       "    </tr>\n",
       "    <tr>\n",
       "      <th>4</th>\n",
       "      <td>237.0</td>\n",
       "      <td>São Gonçalo</td>\n",
       "      <td>RJ</td>\n",
       "      <td>983.7</td>\n",
       "      <td>983.8</td>\n",
       "      <td>983.6</td>\n",
       "      <td>25.4</td>\n",
       "      <td>16.4</td>\n",
       "      <td>26.3</td>\n",
       "      <td>17.0</td>\n",
       "      <td>25.3</td>\n",
       "      <td>16.4</td>\n",
       "      <td>57.0</td>\n",
       "      <td>58.0</td>\n",
       "      <td>56.0</td>\n",
       "      <td>3.1</td>\n",
       "      <td>110.0</td>\n",
       "      <td>7.5</td>\n",
       "      <td>2007-11-06 04:00:00</td>\n",
       "    </tr>\n",
       "  </tbody>\n",
       "</table>\n",
       "</div>"
      ],
      "text/plain": [
       "    elvt         city prov    stp   smax   smin  temp  dewp  tmax  dmax  tmin  \\\n",
       "0  237.0  São Gonçalo   RJ  982.5  982.5  981.3  29.3  12.1  29.7  16.8  25.5   \n",
       "1  237.0  São Gonçalo   RJ  983.2  983.2  982.5  29.0  13.5  29.9  13.6  29.0   \n",
       "2  237.0  São Gonçalo   RJ  983.5  983.5  983.2  27.4  14.0  29.0  14.0  27.4   \n",
       "3  237.0  São Gonçalo   RJ  983.7  983.7  983.4  25.8  16.9  27.4  16.9  25.8   \n",
       "4  237.0  São Gonçalo   RJ  983.7  983.8  983.6  25.4  16.4  26.3  17.0  25.3   \n",
       "\n",
       "   dmin  hmdy  hmax  hmin  wdsp   wdct  gust                date  \n",
       "0  10.8  35.0  58.0  32.0   3.2  101.0   6.5 2007-11-06 00:00:00  \n",
       "1  12.2  39.0  39.0  35.0   3.6   94.0   6.4 2007-11-06 01:00:00  \n",
       "2  13.6  44.0  44.0  39.0   2.5   93.0   6.9 2007-11-06 02:00:00  \n",
       "3  14.1  58.0  58.0  44.0   1.7   96.0   5.8 2007-11-06 03:00:00  \n",
       "4  16.4  57.0  58.0  56.0   3.1  110.0   7.5 2007-11-06 04:00:00  "
      ]
     },
     "execution_count": 14,
     "metadata": {},
     "output_type": "execute_result"
    }
   ],
   "source": [
    "df.head(5)"
   ]
  },
  {
   "cell_type": "code",
   "execution_count": 23,
   "metadata": {
    "ExecuteTime": {
     "end_time": "2020-06-08T06:46:46.418260Z",
     "start_time": "2020-06-08T06:46:46.404268Z"
    }
   },
   "outputs": [
    {
     "data": {
      "text/plain": [
       "elvt           float64\n",
       "city            object\n",
       "prov            object\n",
       "stp            float64\n",
       "smax           float64\n",
       "smin           float64\n",
       "temp           float64\n",
       "dewp           float64\n",
       "tmax           float64\n",
       "dmax           float64\n",
       "tmin           float64\n",
       "dmin           float64\n",
       "hmdy           float64\n",
       "hmax           float64\n",
       "hmin           float64\n",
       "wdsp           float64\n",
       "wdct           float64\n",
       "gust           float64\n",
       "date    datetime64[ns]\n",
       "dtype: object"
      ]
     },
     "execution_count": 23,
     "metadata": {},
     "output_type": "execute_result"
    }
   ],
   "source": [
    "df.dtypes"
   ]
  },
  {
   "cell_type": "code",
   "execution_count": 22,
   "metadata": {
    "ExecuteTime": {
     "end_time": "2020-06-08T09:00:29.942981Z",
     "start_time": "2020-06-08T09:00:29.565995Z"
    }
   },
   "outputs": [],
   "source": [
    "nan_val=df[(df['temp']==df['temp'].isnull()) & (df['tmin']==df['tmin'].isnull()) & (df['tmax']==df['tmax'].isnull())]"
   ]
  },
  {
   "cell_type": "code",
   "execution_count": 23,
   "metadata": {
    "ExecuteTime": {
     "end_time": "2020-06-08T09:00:39.712116Z",
     "start_time": "2020-06-08T09:00:35.724298Z"
    }
   },
   "outputs": [],
   "source": [
    "df.drop(nan_val.index,inplace=True)"
   ]
  },
  {
   "cell_type": "code",
   "execution_count": 26,
   "metadata": {
    "ExecuteTime": {
     "end_time": "2020-06-08T09:01:16.997840Z",
     "start_time": "2020-06-08T09:01:16.634476Z"
    }
   },
   "outputs": [],
   "source": [
    "nan_val2=df[(df['dewp']==df['dewp'].isnull()) & (df['dmin']==df['dmin'].isnull()) & (df['dmax']==df['dmax'].isnull())]"
   ]
  },
  {
   "cell_type": "code",
   "execution_count": 27,
   "metadata": {
    "ExecuteTime": {
     "end_time": "2020-06-08T09:01:27.231949Z",
     "start_time": "2020-06-08T09:01:22.946121Z"
    }
   },
   "outputs": [],
   "source": [
    "df.drop(nan_val2.index,inplace=True)"
   ]
  },
  {
   "cell_type": "code",
   "execution_count": 47,
   "metadata": {
    "ExecuteTime": {
     "end_time": "2020-06-08T07:15:34.485116Z",
     "start_time": "2020-06-08T07:15:33.218413Z"
    }
   },
   "outputs": [],
   "source": [
    "#nan_val3=df[(df['wdsp']==df['wdsp'].isnull()) & (df['gust']==df['gust'].isnull())]"
   ]
  },
  {
   "cell_type": "code",
   "execution_count": 49,
   "metadata": {
    "ExecuteTime": {
     "end_time": "2020-06-08T07:16:48.527800Z",
     "start_time": "2020-06-08T07:16:40.776128Z"
    }
   },
   "outputs": [],
   "source": [
    "#df.drop(nan_val3.index,inplace=True)"
   ]
  },
  {
   "cell_type": "code",
   "execution_count": 28,
   "metadata": {
    "ExecuteTime": {
     "end_time": "2020-06-08T09:01:50.641295Z",
     "start_time": "2020-06-08T09:01:48.831902Z"
    }
   },
   "outputs": [
    {
     "data": {
      "text/plain": [
       "elvt         0\n",
       "city         0\n",
       "prov         0\n",
       "stp          0\n",
       "smax         0\n",
       "smin         0\n",
       "temp        31\n",
       "dewp       475\n",
       "tmax        26\n",
       "dmax       310\n",
       "tmin        34\n",
       "dmin       807\n",
       "hmdy         0\n",
       "hmax         0\n",
       "hmin        24\n",
       "wdsp    917430\n",
       "wdct         0\n",
       "gust    313077\n",
       "date         0\n",
       "dtype: int64"
      ]
     },
     "execution_count": 28,
     "metadata": {},
     "output_type": "execute_result"
    }
   ],
   "source": [
    "df.isnull().sum()"
   ]
  },
  {
   "cell_type": "code",
   "execution_count": 64,
   "metadata": {
    "ExecuteTime": {
     "end_time": "2020-06-08T08:16:31.135369Z",
     "start_time": "2020-06-08T08:16:31.082513Z"
    }
   },
   "outputs": [
    {
     "data": {
      "text/html": [
       "<div>\n",
       "<style scoped>\n",
       "    .dataframe tbody tr th:only-of-type {\n",
       "        vertical-align: middle;\n",
       "    }\n",
       "\n",
       "    .dataframe tbody tr th {\n",
       "        vertical-align: top;\n",
       "    }\n",
       "\n",
       "    .dataframe thead th {\n",
       "        text-align: right;\n",
       "    }\n",
       "</style>\n",
       "<table border=\"1\" class=\"dataframe\">\n",
       "  <thead>\n",
       "    <tr style=\"text-align: right;\">\n",
       "      <th></th>\n",
       "      <th>elvt</th>\n",
       "      <th>city</th>\n",
       "      <th>prov</th>\n",
       "      <th>stp</th>\n",
       "      <th>smax</th>\n",
       "      <th>smin</th>\n",
       "      <th>temp</th>\n",
       "      <th>dewp</th>\n",
       "      <th>tmax</th>\n",
       "      <th>dmax</th>\n",
       "      <th>tmin</th>\n",
       "      <th>dmin</th>\n",
       "      <th>hmdy</th>\n",
       "      <th>hmax</th>\n",
       "      <th>hmin</th>\n",
       "      <th>wdsp</th>\n",
       "      <th>wdct</th>\n",
       "      <th>gust</th>\n",
       "      <th>date</th>\n",
       "    </tr>\n",
       "  </thead>\n",
       "  <tbody>\n",
       "    <tr>\n",
       "      <th>0</th>\n",
       "      <td>237.0</td>\n",
       "      <td>São Gonçalo</td>\n",
       "      <td>RJ</td>\n",
       "      <td>982.5</td>\n",
       "      <td>982.5</td>\n",
       "      <td>981.3</td>\n",
       "      <td>29.3</td>\n",
       "      <td>12.1</td>\n",
       "      <td>29.7</td>\n",
       "      <td>16.8</td>\n",
       "      <td>25.5</td>\n",
       "      <td>10.8</td>\n",
       "      <td>35.0</td>\n",
       "      <td>58.0</td>\n",
       "      <td>32.0</td>\n",
       "      <td>3.2</td>\n",
       "      <td>101.0</td>\n",
       "      <td>6.5</td>\n",
       "      <td>2007-11-06 00:00:00</td>\n",
       "    </tr>\n",
       "    <tr>\n",
       "      <th>1</th>\n",
       "      <td>237.0</td>\n",
       "      <td>São Gonçalo</td>\n",
       "      <td>RJ</td>\n",
       "      <td>983.2</td>\n",
       "      <td>983.2</td>\n",
       "      <td>982.5</td>\n",
       "      <td>29.0</td>\n",
       "      <td>13.5</td>\n",
       "      <td>29.9</td>\n",
       "      <td>13.6</td>\n",
       "      <td>29.0</td>\n",
       "      <td>12.2</td>\n",
       "      <td>39.0</td>\n",
       "      <td>39.0</td>\n",
       "      <td>35.0</td>\n",
       "      <td>3.6</td>\n",
       "      <td>94.0</td>\n",
       "      <td>6.4</td>\n",
       "      <td>2007-11-06 01:00:00</td>\n",
       "    </tr>\n",
       "    <tr>\n",
       "      <th>2</th>\n",
       "      <td>237.0</td>\n",
       "      <td>São Gonçalo</td>\n",
       "      <td>RJ</td>\n",
       "      <td>983.5</td>\n",
       "      <td>983.5</td>\n",
       "      <td>983.2</td>\n",
       "      <td>27.4</td>\n",
       "      <td>14.0</td>\n",
       "      <td>29.0</td>\n",
       "      <td>14.0</td>\n",
       "      <td>27.4</td>\n",
       "      <td>13.6</td>\n",
       "      <td>44.0</td>\n",
       "      <td>44.0</td>\n",
       "      <td>39.0</td>\n",
       "      <td>2.5</td>\n",
       "      <td>93.0</td>\n",
       "      <td>6.9</td>\n",
       "      <td>2007-11-06 02:00:00</td>\n",
       "    </tr>\n",
       "    <tr>\n",
       "      <th>3</th>\n",
       "      <td>237.0</td>\n",
       "      <td>São Gonçalo</td>\n",
       "      <td>RJ</td>\n",
       "      <td>983.7</td>\n",
       "      <td>983.7</td>\n",
       "      <td>983.4</td>\n",
       "      <td>25.8</td>\n",
       "      <td>16.9</td>\n",
       "      <td>27.4</td>\n",
       "      <td>16.9</td>\n",
       "      <td>25.8</td>\n",
       "      <td>14.1</td>\n",
       "      <td>58.0</td>\n",
       "      <td>58.0</td>\n",
       "      <td>44.0</td>\n",
       "      <td>1.7</td>\n",
       "      <td>96.0</td>\n",
       "      <td>5.8</td>\n",
       "      <td>2007-11-06 03:00:00</td>\n",
       "    </tr>\n",
       "    <tr>\n",
       "      <th>4</th>\n",
       "      <td>237.0</td>\n",
       "      <td>São Gonçalo</td>\n",
       "      <td>RJ</td>\n",
       "      <td>983.7</td>\n",
       "      <td>983.8</td>\n",
       "      <td>983.6</td>\n",
       "      <td>25.4</td>\n",
       "      <td>16.4</td>\n",
       "      <td>26.3</td>\n",
       "      <td>17.0</td>\n",
       "      <td>25.3</td>\n",
       "      <td>16.4</td>\n",
       "      <td>57.0</td>\n",
       "      <td>58.0</td>\n",
       "      <td>56.0</td>\n",
       "      <td>3.1</td>\n",
       "      <td>110.0</td>\n",
       "      <td>7.5</td>\n",
       "      <td>2007-11-06 04:00:00</td>\n",
       "    </tr>\n",
       "  </tbody>\n",
       "</table>\n",
       "</div>"
      ],
      "text/plain": [
       "    elvt         city prov    stp   smax   smin  temp  dewp  tmax  dmax  tmin  \\\n",
       "0  237.0  São Gonçalo   RJ  982.5  982.5  981.3  29.3  12.1  29.7  16.8  25.5   \n",
       "1  237.0  São Gonçalo   RJ  983.2  983.2  982.5  29.0  13.5  29.9  13.6  29.0   \n",
       "2  237.0  São Gonçalo   RJ  983.5  983.5  983.2  27.4  14.0  29.0  14.0  27.4   \n",
       "3  237.0  São Gonçalo   RJ  983.7  983.7  983.4  25.8  16.9  27.4  16.9  25.8   \n",
       "4  237.0  São Gonçalo   RJ  983.7  983.8  983.6  25.4  16.4  26.3  17.0  25.3   \n",
       "\n",
       "   dmin  hmdy  hmax  hmin  wdsp   wdct  gust                date  \n",
       "0  10.8  35.0  58.0  32.0   3.2  101.0   6.5 2007-11-06 00:00:00  \n",
       "1  12.2  39.0  39.0  35.0   3.6   94.0   6.4 2007-11-06 01:00:00  \n",
       "2  13.6  44.0  44.0  39.0   2.5   93.0   6.9 2007-11-06 02:00:00  \n",
       "3  14.1  58.0  58.0  44.0   1.7   96.0   5.8 2007-11-06 03:00:00  \n",
       "4  16.4  57.0  58.0  56.0   3.1  110.0   7.5 2007-11-06 04:00:00  "
      ]
     },
     "execution_count": 64,
     "metadata": {},
     "output_type": "execute_result"
    }
   ],
   "source": [
    "df.head()"
   ]
  },
  {
   "cell_type": "markdown",
   "metadata": {},
   "source": [
    "### Air pressure analysis"
   ]
  },
  {
   "cell_type": "code",
   "execution_count": 30,
   "metadata": {
    "ExecuteTime": {
     "end_time": "2020-06-08T09:02:41.648067Z",
     "start_time": "2020-06-08T09:02:40.768081Z"
    }
   },
   "outputs": [],
   "source": [
    "air=df[['date','city','elvt','prov','stp','smax','smin']]"
   ]
  },
  {
   "cell_type": "code",
   "execution_count": 31,
   "metadata": {
    "ExecuteTime": {
     "end_time": "2020-06-08T09:02:49.122205Z",
     "start_time": "2020-06-08T09:02:49.075332Z"
    }
   },
   "outputs": [
    {
     "data": {
      "text/html": [
       "<div>\n",
       "<style scoped>\n",
       "    .dataframe tbody tr th:only-of-type {\n",
       "        vertical-align: middle;\n",
       "    }\n",
       "\n",
       "    .dataframe tbody tr th {\n",
       "        vertical-align: top;\n",
       "    }\n",
       "\n",
       "    .dataframe thead th {\n",
       "        text-align: right;\n",
       "    }\n",
       "</style>\n",
       "<table border=\"1\" class=\"dataframe\">\n",
       "  <thead>\n",
       "    <tr style=\"text-align: right;\">\n",
       "      <th></th>\n",
       "      <th>date</th>\n",
       "      <th>city</th>\n",
       "      <th>elvt</th>\n",
       "      <th>prov</th>\n",
       "      <th>stp</th>\n",
       "      <th>smax</th>\n",
       "      <th>smin</th>\n",
       "    </tr>\n",
       "  </thead>\n",
       "  <tbody>\n",
       "    <tr>\n",
       "      <th>0</th>\n",
       "      <td>2007-11-06 00:00:00</td>\n",
       "      <td>São Gonçalo</td>\n",
       "      <td>237.0</td>\n",
       "      <td>RJ</td>\n",
       "      <td>982.5</td>\n",
       "      <td>982.5</td>\n",
       "      <td>981.3</td>\n",
       "    </tr>\n",
       "    <tr>\n",
       "      <th>1</th>\n",
       "      <td>2007-11-06 01:00:00</td>\n",
       "      <td>São Gonçalo</td>\n",
       "      <td>237.0</td>\n",
       "      <td>RJ</td>\n",
       "      <td>983.2</td>\n",
       "      <td>983.2</td>\n",
       "      <td>982.5</td>\n",
       "    </tr>\n",
       "    <tr>\n",
       "      <th>2</th>\n",
       "      <td>2007-11-06 02:00:00</td>\n",
       "      <td>São Gonçalo</td>\n",
       "      <td>237.0</td>\n",
       "      <td>RJ</td>\n",
       "      <td>983.5</td>\n",
       "      <td>983.5</td>\n",
       "      <td>983.2</td>\n",
       "    </tr>\n",
       "    <tr>\n",
       "      <th>3</th>\n",
       "      <td>2007-11-06 03:00:00</td>\n",
       "      <td>São Gonçalo</td>\n",
       "      <td>237.0</td>\n",
       "      <td>RJ</td>\n",
       "      <td>983.7</td>\n",
       "      <td>983.7</td>\n",
       "      <td>983.4</td>\n",
       "    </tr>\n",
       "    <tr>\n",
       "      <th>4</th>\n",
       "      <td>2007-11-06 04:00:00</td>\n",
       "      <td>São Gonçalo</td>\n",
       "      <td>237.0</td>\n",
       "      <td>RJ</td>\n",
       "      <td>983.7</td>\n",
       "      <td>983.8</td>\n",
       "      <td>983.6</td>\n",
       "    </tr>\n",
       "  </tbody>\n",
       "</table>\n",
       "</div>"
      ],
      "text/plain": [
       "                 date         city   elvt prov    stp   smax   smin\n",
       "0 2007-11-06 00:00:00  São Gonçalo  237.0   RJ  982.5  982.5  981.3\n",
       "1 2007-11-06 01:00:00  São Gonçalo  237.0   RJ  983.2  983.2  982.5\n",
       "2 2007-11-06 02:00:00  São Gonçalo  237.0   RJ  983.5  983.5  983.2\n",
       "3 2007-11-06 03:00:00  São Gonçalo  237.0   RJ  983.7  983.7  983.4\n",
       "4 2007-11-06 04:00:00  São Gonçalo  237.0   RJ  983.7  983.8  983.6"
      ]
     },
     "execution_count": 31,
     "metadata": {},
     "output_type": "execute_result"
    }
   ],
   "source": [
    "air.head()"
   ]
  },
  {
   "cell_type": "code",
   "execution_count": 32,
   "metadata": {
    "ExecuteTime": {
     "end_time": "2020-06-08T09:02:54.854491Z",
     "start_time": "2020-06-08T09:02:54.823574Z"
    }
   },
   "outputs": [],
   "source": [
    "air.set_index('date',inplace=True)"
   ]
  },
  {
   "cell_type": "code",
   "execution_count": 33,
   "metadata": {
    "ExecuteTime": {
     "end_time": "2020-06-08T09:02:58.915453Z",
     "start_time": "2020-06-08T09:02:58.893513Z"
    }
   },
   "outputs": [
    {
     "data": {
      "text/html": [
       "<div>\n",
       "<style scoped>\n",
       "    .dataframe tbody tr th:only-of-type {\n",
       "        vertical-align: middle;\n",
       "    }\n",
       "\n",
       "    .dataframe tbody tr th {\n",
       "        vertical-align: top;\n",
       "    }\n",
       "\n",
       "    .dataframe thead th {\n",
       "        text-align: right;\n",
       "    }\n",
       "</style>\n",
       "<table border=\"1\" class=\"dataframe\">\n",
       "  <thead>\n",
       "    <tr style=\"text-align: right;\">\n",
       "      <th></th>\n",
       "      <th>city</th>\n",
       "      <th>elvt</th>\n",
       "      <th>prov</th>\n",
       "      <th>stp</th>\n",
       "      <th>smax</th>\n",
       "      <th>smin</th>\n",
       "    </tr>\n",
       "    <tr>\n",
       "      <th>date</th>\n",
       "      <th></th>\n",
       "      <th></th>\n",
       "      <th></th>\n",
       "      <th></th>\n",
       "      <th></th>\n",
       "      <th></th>\n",
       "    </tr>\n",
       "  </thead>\n",
       "  <tbody>\n",
       "    <tr>\n",
       "      <th>2007-11-06 00:00:00</th>\n",
       "      <td>São Gonçalo</td>\n",
       "      <td>237.0</td>\n",
       "      <td>RJ</td>\n",
       "      <td>982.5</td>\n",
       "      <td>982.5</td>\n",
       "      <td>981.3</td>\n",
       "    </tr>\n",
       "    <tr>\n",
       "      <th>2007-11-06 01:00:00</th>\n",
       "      <td>São Gonçalo</td>\n",
       "      <td>237.0</td>\n",
       "      <td>RJ</td>\n",
       "      <td>983.2</td>\n",
       "      <td>983.2</td>\n",
       "      <td>982.5</td>\n",
       "    </tr>\n",
       "    <tr>\n",
       "      <th>2007-11-06 02:00:00</th>\n",
       "      <td>São Gonçalo</td>\n",
       "      <td>237.0</td>\n",
       "      <td>RJ</td>\n",
       "      <td>983.5</td>\n",
       "      <td>983.5</td>\n",
       "      <td>983.2</td>\n",
       "    </tr>\n",
       "    <tr>\n",
       "      <th>2007-11-06 03:00:00</th>\n",
       "      <td>São Gonçalo</td>\n",
       "      <td>237.0</td>\n",
       "      <td>RJ</td>\n",
       "      <td>983.7</td>\n",
       "      <td>983.7</td>\n",
       "      <td>983.4</td>\n",
       "    </tr>\n",
       "    <tr>\n",
       "      <th>2007-11-06 04:00:00</th>\n",
       "      <td>São Gonçalo</td>\n",
       "      <td>237.0</td>\n",
       "      <td>RJ</td>\n",
       "      <td>983.7</td>\n",
       "      <td>983.8</td>\n",
       "      <td>983.6</td>\n",
       "    </tr>\n",
       "  </tbody>\n",
       "</table>\n",
       "</div>"
      ],
      "text/plain": [
       "                            city   elvt prov    stp   smax   smin\n",
       "date                                                             \n",
       "2007-11-06 00:00:00  São Gonçalo  237.0   RJ  982.5  982.5  981.3\n",
       "2007-11-06 01:00:00  São Gonçalo  237.0   RJ  983.2  983.2  982.5\n",
       "2007-11-06 02:00:00  São Gonçalo  237.0   RJ  983.5  983.5  983.2\n",
       "2007-11-06 03:00:00  São Gonçalo  237.0   RJ  983.7  983.7  983.4\n",
       "2007-11-06 04:00:00  São Gonçalo  237.0   RJ  983.7  983.8  983.6"
      ]
     },
     "execution_count": 33,
     "metadata": {},
     "output_type": "execute_result"
    }
   ],
   "source": [
    "air.head()"
   ]
  },
  {
   "cell_type": "code",
   "execution_count": 34,
   "metadata": {
    "ExecuteTime": {
     "end_time": "2020-06-08T09:03:04.538525Z",
     "start_time": "2020-06-08T09:03:03.442459Z"
    }
   },
   "outputs": [
    {
     "data": {
      "text/plain": [
       "city    0\n",
       "elvt    0\n",
       "prov    0\n",
       "stp     0\n",
       "smax    0\n",
       "smin    0\n",
       "dtype: int64"
      ]
     },
     "execution_count": 34,
     "metadata": {},
     "output_type": "execute_result"
    }
   ],
   "source": [
    "air.isnull().sum()"
   ]
  },
  {
   "cell_type": "code",
   "execution_count": 35,
   "metadata": {
    "ExecuteTime": {
     "end_time": "2020-06-08T09:07:52.025698Z",
     "start_time": "2020-06-08T09:07:51.246675Z"
    }
   },
   "outputs": [
    {
     "data": {
      "text/plain": [
       "Int64Index([2007, 2007, 2007, 2007, 2007, 2007, 2007, 2007, 2007, 2007,\n",
       "            ...\n",
       "            2016, 2016, 2016, 2016, 2016, 2016, 2016, 2016, 2016, 2016],\n",
       "           dtype='int64', name='date', length=9077472)"
      ]
     },
     "execution_count": 35,
     "metadata": {},
     "output_type": "execute_result"
    }
   ],
   "source": [
    "air.index.year"
   ]
  },
  {
   "cell_type": "code",
   "execution_count": 44,
   "metadata": {
    "ExecuteTime": {
     "end_time": "2020-06-08T09:10:56.930876Z",
     "start_time": "2020-06-08T09:10:54.086293Z"
    }
   },
   "outputs": [
    {
     "name": "stdout",
     "output_type": "stream",
     "text": [
      "                        city   elvt prov    stp   smax   smin\n",
      "date                                                         \n",
      "2007-08-06 00:00:00  Aimorés  288.0   MG  998.0  998.0  997.5\n",
      "2007-08-06 01:00:00  Aimorés  288.0   MG  998.6  998.6  998.0\n",
      "2007-08-06 02:00:00  Aimorés  288.0   MG  999.0  999.1  998.6\n",
      "2007-08-06 04:00:00  Aimorés  288.0   MG  998.6  998.9  998.5\n",
      "2007-08-06 05:00:00  Aimorés  288.0   MG  998.5  998.6  998.4\n",
      "...                      ...    ...  ...    ...    ...    ...\n",
      "2016-09-30 19:00:00  Aimorés  288.0   MG  977.2  977.4  977.1\n",
      "2016-09-30 20:00:00  Aimorés  288.0   MG  977.7  977.7  977.2\n",
      "2016-09-30 21:00:00  Aimorés  288.0   MG  978.1  978.2  977.6\n",
      "2016-09-30 22:00:00  Aimorés  288.0   MG  979.4  979.6  978.1\n",
      "2016-09-30 23:00:00  Aimorés  288.0   MG  980.6  980.7  979.3\n",
      "\n",
      "[74305 rows x 6 columns]\n",
      "\n"
     ]
    }
   ],
   "source": [
    "air.groupby('city')\n",
    "for i,g in air.groupby('city'):\n",
    "    if i == 'Aimorés':\n",
    "        print(g)\n",
    "        print()"
   ]
  },
  {
   "cell_type": "code",
   "execution_count": null,
   "metadata": {},
   "outputs": [],
   "source": []
  }
 ],
 "metadata": {
  "kernelspec": {
   "display_name": "Python 3",
   "language": "python",
   "name": "python3"
  },
  "language_info": {
   "codemirror_mode": {
    "name": "ipython",
    "version": 3
   },
   "file_extension": ".py",
   "mimetype": "text/x-python",
   "name": "python",
   "nbconvert_exporter": "python",
   "pygments_lexer": "ipython3",
   "version": "3.7.6"
  },
  "varInspector": {
   "cols": {
    "lenName": 16,
    "lenType": 16,
    "lenVar": 40
   },
   "kernels_config": {
    "python": {
     "delete_cmd_postfix": "",
     "delete_cmd_prefix": "del ",
     "library": "var_list.py",
     "varRefreshCmd": "print(var_dic_list())"
    },
    "r": {
     "delete_cmd_postfix": ") ",
     "delete_cmd_prefix": "rm(",
     "library": "var_list.r",
     "varRefreshCmd": "cat(var_dic_list()) "
    }
   },
   "types_to_exclude": [
    "module",
    "function",
    "builtin_function_or_method",
    "instance",
    "_Feature"
   ],
   "window_display": false
  }
 },
 "nbformat": 4,
 "nbformat_minor": 4
}
